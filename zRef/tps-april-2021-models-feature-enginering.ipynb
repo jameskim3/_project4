{
 "cells": [
  {
   "cell_type": "markdown",
   "id": "tutorial-footwear",
   "metadata": {
    "_cell_guid": "b1076dfc-b9ad-4769-8c92-a6c4dae69d19",
    "_kg_hide-input": false,
    "_uuid": "8f2839f25d086af736a60e9eeb907d3b93b6e0e5",
    "papermill": {
     "duration": 0.062197,
     "end_time": "2021-04-25T02:24:41.958974",
     "exception": false,
     "start_time": "2021-04-25T02:24:41.896777",
     "status": "completed"
    },
    "tags": []
   },
   "source": [
    "# Table of Contents\n",
    "<a id=\"table-of-contents\"></a>\n",
    "* [1. Introduction](#1)\n",
    "* [2. Preparation](#2)\n",
    "    * [2.1. Load packages](#2.1)\n",
    "    * [2.2. Load dataset](#2.2)\n",
    "    * [2.3. Data pre-processing](#2.3)\n",
    "* [3. Baseline Model](#3)\n",
    "    * [3.1. Catboost](#3.1)\n",
    "    * [3.2. XGBoost](#3.2)\n",
    "    * [3.3. LGBM](#3.3)\n",
    "    * [3.4. Hard Voting](#3.4)\n",
    "* [4. Features Engineering](#4)\n",
    "    * [4.1. Family](#4.1)\n",
    "    * [4.2. Without family](#4.2)\n",
    "    * [4.3. First name and last name](#4.3)\n",
    "    * [4.4. Ticket](#4.4)\n",
    "    * [4.5. Age - binning](#4.5)\n",
    "    * [4.6. Fare - binning](#4.6)\n",
    "* [5. Baseline Model Post Features Engineering](#5)\n",
    "    * [5.1. Catboost](#5.1)\n",
    "    * [5.2. XGBoost](#5.2)\n",
    "    * [5.3. LGBM](#5.3)\n",
    "    * [5.4. Hard Voting](#5.4)\n",
    "* [6. Psuedo Labeling](#6)\n",
    "    * [6.1 Preparation](#6.1)\n",
    "    * [6.2. Features Engineering](#6.2)\n",
    "    * [6.3. Train Model & Prediction](#6.3)\n",
    "    * [6.4. Submission](#6.4)"
   ]
  },
  {
   "cell_type": "markdown",
   "id": "superb-ghost",
   "metadata": {
    "papermill": {
     "duration": 0.060521,
     "end_time": "2021-04-25T02:24:42.080659",
     "exception": false,
     "start_time": "2021-04-25T02:24:42.020138",
     "status": "completed"
    },
    "tags": []
   },
   "source": [
    "[back to top](#table-of-contents)\n",
    "<a id=\"1\"></a>\n",
    "# 1. Introduction\n",
    "\n",
    "The notebook will try to explore models and feature engineering performance in predicting whether or not a passenger survived the sinking of the Synthanic (a synthetic, much larger dataset based on the actual Titanic dataset). The score is the percentage of passengers that are correctly predicted, known as accuracy."
   ]
  },
  {
   "cell_type": "markdown",
   "id": "hawaiian-interaction",
   "metadata": {
    "papermill": {
     "duration": 0.059456,
     "end_time": "2021-04-25T02:24:42.200101",
     "exception": false,
     "start_time": "2021-04-25T02:24:42.140645",
     "status": "completed"
    },
    "tags": []
   },
   "source": [
    "[back to top](#table-of-contents)\n",
    "<a id=\"2\"></a>\n",
    "# 2. Preparation\n",
    "\n",
    "Steps that will be performed:\n",
    "\n",
    "* Load packages for performing label encoding, cross validation, modeling and accuracy measurement.\n",
    "* Combine train and test dataset, the purpose is to tackle missing categories when performing label encoding and to fill missing value on continuous features.\n",
    "* Label encode all the categorical features and fill missing value in continous features.\n",
    "* Split back preprocessed combine dataset into train and test dataset.\n",
    "\n",
    "<a id=\"2.1\"></a>\n",
    "## 2.1. Load packages\n",
    "Load packages for performing label encoding, cross validation, modeling and accuracy measurement."
   ]
  },
  {
   "cell_type": "code",
   "execution_count": 1,
   "id": "considered-monitor",
   "metadata": {
    "_kg_hide-input": true,
    "execution": {
     "iopub.execute_input": "2021-04-25T02:24:42.323952Z",
     "iopub.status.busy": "2021-04-25T02:24:42.322819Z",
     "iopub.status.idle": "2021-04-25T02:24:44.220390Z",
     "shell.execute_reply": "2021-04-25T02:24:44.219706Z"
    },
    "papermill": {
     "duration": 1.960543,
     "end_time": "2021-04-25T02:24:44.220572",
     "exception": false,
     "start_time": "2021-04-25T02:24:42.260029",
     "status": "completed"
    },
    "tags": []
   },
   "outputs": [
    {
     "data": {
      "text/html": [
       "<style type='text/css'>\n",
       ".datatable table.frame { margin-bottom: 0; }\n",
       ".datatable table.frame thead { border-bottom: none; }\n",
       ".datatable table.frame tr.coltypes td {  color: #FFFFFF;  line-height: 6px;  padding: 0 0.5em;}\n",
       ".datatable .bool    { background: #DDDD99; }\n",
       ".datatable .object  { background: #565656; }\n",
       ".datatable .int     { background: #5D9E5D; }\n",
       ".datatable .float   { background: #4040CC; }\n",
       ".datatable .str     { background: #CC4040; }\n",
       ".datatable .row_index {  background: var(--jp-border-color3);  border-right: 1px solid var(--jp-border-color0);  color: var(--jp-ui-font-color3);  font-size: 9px;}\n",
       ".datatable .frame tr.coltypes .row_index {  background: var(--jp-border-color0);}\n",
       ".datatable th:nth-child(2) { padding-left: 12px; }\n",
       ".datatable .hellipsis {  color: var(--jp-cell-editor-border-color);}\n",
       ".datatable .vellipsis {  background: var(--jp-layout-color0);  color: var(--jp-cell-editor-border-color);}\n",
       ".datatable .na {  color: var(--jp-cell-editor-border-color);  font-size: 80%;}\n",
       ".datatable .footer { font-size: 9px; }\n",
       ".datatable .frame_dimensions {  background: var(--jp-border-color3);  border-top: 1px solid var(--jp-border-color0);  color: var(--jp-ui-font-color3);  display: inline-block;  opacity: 0.6;  padding: 1px 10px 1px 5px;}\n",
       "</style>\n"
      ],
      "text/plain": [
       "<IPython.core.display.HTML object>"
      ]
     },
     "metadata": {},
     "output_type": "display_data"
    }
   ],
   "source": [
    "import numpy as np\n",
    "import pandas as pd\n",
    "from sklearn.metrics import accuracy_score\n",
    "from sklearn.preprocessing import LabelEncoder, OneHotEncoder\n",
    "from sklearn.model_selection import StratifiedKFold\n",
    "from sklearn.ensemble import VotingClassifier\n",
    "from sklearn.linear_model import LogisticRegression\n",
    "from catboost import CatBoostClassifier\n",
    "from xgboost import XGBClassifier\n",
    "from lightgbm import LGBMClassifier\n",
    "\n",
    "pd.set_option('display.max_rows', None)\n",
    "pd.set_option('display.max_columns', None)"
   ]
  },
  {
   "cell_type": "markdown",
   "id": "difficult-final",
   "metadata": {
    "papermill": {
     "duration": 0.060801,
     "end_time": "2021-04-25T02:24:44.343195",
     "exception": false,
     "start_time": "2021-04-25T02:24:44.282394",
     "status": "completed"
    },
    "tags": []
   },
   "source": [
    "[back to top](#table-of-contents)\n",
    "<a id=\"2.2\"></a>\n",
    "## 2.2. Load dataset\n",
    "\n",
    "Load `train`, `test` and`submission` dataset and combine `train` and `test` dataset into `combine` dataset for performing data pre-processing."
   ]
  },
  {
   "cell_type": "code",
   "execution_count": 2,
   "id": "retained-sullivan",
   "metadata": {
    "_kg_hide-input": true,
    "execution": {
     "iopub.execute_input": "2021-04-25T02:24:44.470542Z",
     "iopub.status.busy": "2021-04-25T02:24:44.469867Z",
     "iopub.status.idle": "2021-04-25T02:24:45.195657Z",
     "shell.execute_reply": "2021-04-25T02:24:45.194931Z"
    },
    "papermill": {
     "duration": 0.79197,
     "end_time": "2021-04-25T02:24:45.195811",
     "exception": false,
     "start_time": "2021-04-25T02:24:44.403841",
     "status": "completed"
    },
    "tags": []
   },
   "outputs": [],
   "source": [
    "train = pd.read_csv('../input/tabular-playground-series-apr-2021/train.csv')\n",
    "test = pd.read_csv('../input/tabular-playground-series-apr-2021/test.csv')\n",
    "submission = pd.read_csv('../input/tabular-playground-series-apr-2021/sample_submission.csv')\n",
    "combine = pd.concat([train, test], axis=0)"
   ]
  },
  {
   "cell_type": "markdown",
   "id": "identical-newspaper",
   "metadata": {
    "papermill": {
     "duration": 0.06084,
     "end_time": "2021-04-25T02:24:45.317009",
     "exception": false,
     "start_time": "2021-04-25T02:24:45.256169",
     "status": "completed"
    },
    "tags": []
   },
   "source": [
    "[back to top](#table-of-contents)\n",
    "<a id=\"2.3\"></a>\n",
    "## 2.3. Data pre-processing\n",
    "\n",
    "Data pre-processing that are used:\n",
    "\n",
    "* **Cabin**\n",
    "    * Take the first letter from the string.\n",
    "    * Fill missing values with `NA` category. \n",
    "    * Use label encoding to convert them into numbers.\n",
    "\n",
    "* **Embarked**\n",
    "    * Fill missing values with `NA` category.\n",
    "    * Use label encoding to convert them into numbers.\n",
    "    \n",
    "* **Sex**\n",
    "    * Use label encoding to convert them into numbers.\n",
    "    \n",
    "* **Fare**\n",
    "    * Fill missing values with `Fare` mean.\n",
    "    \n",
    "* **Age**\n",
    "    * Fill missing values with `Age` mean.\n",
    "    \n",
    "* **Name**\n",
    "    * Will be treated as categorical feature.\n",
    "    \n",
    "* **Ticket**\n",
    "    * Will be treated as categorical feature.\n",
    "    \n",
    "* **PassengerId**\n",
    "    * Will be taken out from the model."
   ]
  },
  {
   "cell_type": "code",
   "execution_count": 3,
   "id": "grave-blind",
   "metadata": {
    "_kg_hide-input": true,
    "execution": {
     "iopub.execute_input": "2021-04-25T02:24:45.460555Z",
     "iopub.status.busy": "2021-04-25T02:24:45.459529Z",
     "iopub.status.idle": "2021-04-25T02:24:47.241309Z",
     "shell.execute_reply": "2021-04-25T02:24:47.240704Z"
    },
    "papermill": {
     "duration": 1.863777,
     "end_time": "2021-04-25T02:24:47.241496",
     "exception": false,
     "start_time": "2021-04-25T02:24:45.377719",
     "status": "completed"
    },
    "tags": []
   },
   "outputs": [],
   "source": [
    "combine['Cabin'] = combine[\"Cabin\"].str[0]\n",
    "combine['Ticket'] = combine['Ticket'].fillna('NA')\n",
    "combine['Cabin'] = combine['Cabin'].fillna('NA')\n",
    "combine['Embarked'] = combine['Embarked'].fillna('NA')\n",
    "combine['Fare'] = combine['Fare'].fillna(np.mean(combine['Fare']))\n",
    "combine['Age'] = combine['Age'].fillna(np.mean(combine['Age']))\n",
    "combine = combine.drop(['PassengerId'], axis=1)\n",
    "\n",
    "cat_features = ['Pclass', 'Sex', 'Cabin', 'Embarked', 'Name', 'Ticket']\n",
    "cont_features = [col for col in combine.columns if col not in cat_features + ['Survived']]\n",
    "features = cat_features + cont_features\n",
    "\n",
    "label_encoder = LabelEncoder()\n",
    "for col in cat_features:\n",
    "    combine[col] = label_encoder.fit_transform(combine[col])"
   ]
  },
  {
   "cell_type": "markdown",
   "id": "buried-gross",
   "metadata": {
    "papermill": {
     "duration": 0.060762,
     "end_time": "2021-04-25T02:24:47.363653",
     "exception": false,
     "start_time": "2021-04-25T02:24:47.302891",
     "status": "completed"
    },
    "tags": []
   },
   "source": [
    "[back to top](#table-of-contents)\n",
    "<a id=\"3\"></a>\n",
    "# 3. Baseline Model\n",
    "\n",
    "This section will evaluate the performance of `Catboost`, `XGBoost` and `LGBM` using preprocessed train dataset without any hyperparameters tuning. `Hard Voting` will be used to ensemble the models. `Hard Voting` calculation is based on the most voting from three models, for example: if `Catboost` vote 1, `XGboost` vote 1 and `LGBM` vote 0, then the final result is 1.\n",
    "\n",
    "**Observations:** \n",
    "* `Catboost` gives the best performance even higher than the `Hard Voting` ensemble which is expected to be performed better than individual model. It seems the others model drag down `Catboost` performance.\n",
    "* `XGBoost` is the second best performance followed by `LGBM`."
   ]
  },
  {
   "cell_type": "code",
   "execution_count": 4,
   "id": "defined-assembly",
   "metadata": {
    "_kg_hide-input": true,
    "execution": {
     "iopub.execute_input": "2021-04-25T02:24:47.506529Z",
     "iopub.status.busy": "2021-04-25T02:24:47.505834Z",
     "iopub.status.idle": "2021-04-25T02:24:47.515192Z",
     "shell.execute_reply": "2021-04-25T02:24:47.514501Z"
    },
    "papermill": {
     "duration": 0.090455,
     "end_time": "2021-04-25T02:24:47.515332",
     "exception": false,
     "start_time": "2021-04-25T02:24:47.424877",
     "status": "completed"
    },
    "tags": []
   },
   "outputs": [],
   "source": [
    "train = combine.iloc[:100000, :]\n",
    "test = combine.iloc[100000:, :]\n",
    "test = test.drop('Survived', axis=1)\n",
    "model_results = pd.DataFrame()\n",
    "folds = 5"
   ]
  },
  {
   "cell_type": "markdown",
   "id": "lonely-snowboard",
   "metadata": {
    "papermill": {
     "duration": 0.060913,
     "end_time": "2021-04-25T02:24:47.637469",
     "exception": false,
     "start_time": "2021-04-25T02:24:47.576556",
     "status": "completed"
    },
    "tags": []
   },
   "source": [
    "[back to top](#table-of-contents)\n",
    "<a id=\"3.1\"></a>\n",
    "## 3.1. Catboost\n",
    "`Catboost` has the highest `accuracy` score of `0.78428` compared to others model even higher than hard voting ensemble."
   ]
  },
  {
   "cell_type": "code",
   "execution_count": 5,
   "id": "nuclear-pharmacy",
   "metadata": {
    "_kg_hide-input": true,
    "execution": {
     "iopub.execute_input": "2021-04-25T02:24:47.770457Z",
     "iopub.status.busy": "2021-04-25T02:24:47.769053Z",
     "iopub.status.idle": "2021-04-25T02:32:35.745348Z",
     "shell.execute_reply": "2021-04-25T02:32:35.745897Z"
    },
    "papermill": {
     "duration": 468.04722,
     "end_time": "2021-04-25T02:32:35.746094",
     "exception": false,
     "start_time": "2021-04-25T02:24:47.698874",
     "status": "completed"
    },
    "tags": []
   },
   "outputs": [
    {
     "name": "stdout",
     "output_type": "stream",
     "text": [
      "Fold 0 Accuracy:  0.78655\n",
      "Fold 1 Accuracy:  0.7879\n",
      "Fold 2 Accuracy:  0.78235\n",
      "Fold 3 Accuracy:  0.78475\n",
      "Fold 4 Accuracy:  0.77935\n",
      "OOF Accuracy:  0.78418\n"
     ]
    }
   ],
   "source": [
    "train_oof = np.zeros((100000,))\n",
    "skf = StratifiedKFold(n_splits=folds, shuffle=True, random_state=42)\n",
    "for fold, (train_idx, valid_idx) in enumerate(skf.split(train[features], train['Survived'])):\n",
    "    X_train, X_valid = train.iloc[train_idx], train.iloc[valid_idx]\n",
    "    y_train = X_train['Survived']\n",
    "    y_valid = X_valid['Survived']\n",
    "    X_train = X_train.drop('Survived', axis=1)\n",
    "    X_valid = X_valid.drop('Survived', axis=1)\n",
    "\n",
    "    model = CatBoostClassifier(\n",
    "        verbose=0,\n",
    "        eval_metric=\"Accuracy\",\n",
    "        random_state=42,\n",
    "        cat_features=cat_features\n",
    "    )\n",
    "\n",
    "    model =  model.fit(X_train, y_train, eval_set=[(X_valid, y_valid)])\n",
    "    temp_oof = model.predict(X_valid)\n",
    "    train_oof[valid_idx] = temp_oof\n",
    "    print(f'Fold {fold} Accuracy: ', accuracy_score(y_valid, temp_oof))\n",
    "    \n",
    "print(f'OOF Accuracy: ', accuracy_score(train['Survived'], train_oof))\n",
    "model_results['CatBoost'] = train_oof"
   ]
  },
  {
   "cell_type": "markdown",
   "id": "earlier-smile",
   "metadata": {
    "papermill": {
     "duration": 0.062673,
     "end_time": "2021-04-25T02:32:35.871685",
     "exception": false,
     "start_time": "2021-04-25T02:32:35.809012",
     "status": "completed"
    },
    "tags": []
   },
   "source": [
    "[back to top](#table-of-contents)\n",
    "<a id=\"3.2\"></a>\n",
    "## 3.2. XGBoost\n",
    "`XGBoost` has the second best accuracy with `0.78201`."
   ]
  },
  {
   "cell_type": "code",
   "execution_count": 6,
   "id": "rising-bicycle",
   "metadata": {
    "_kg_hide-input": true,
    "execution": {
     "iopub.execute_input": "2021-04-25T02:32:36.002458Z",
     "iopub.status.busy": "2021-04-25T02:32:36.001807Z",
     "iopub.status.idle": "2021-04-25T02:32:58.855602Z",
     "shell.execute_reply": "2021-04-25T02:32:58.854953Z"
    },
    "papermill": {
     "duration": 22.921369,
     "end_time": "2021-04-25T02:32:58.855743",
     "exception": false,
     "start_time": "2021-04-25T02:32:35.934374",
     "status": "completed"
    },
    "tags": []
   },
   "outputs": [
    {
     "name": "stdout",
     "output_type": "stream",
     "text": [
      "Fold 0 Accuracy:  0.7845\n",
      "Fold 1 Accuracy:  0.78605\n",
      "Fold 2 Accuracy:  0.78025\n",
      "Fold 3 Accuracy:  0.78015\n",
      "Fold 4 Accuracy:  0.7791\n",
      "OOF Accuracy:  0.78201\n"
     ]
    }
   ],
   "source": [
    "train_oof = np.zeros((100000,))\n",
    "skf = StratifiedKFold(n_splits=folds, shuffle=True, random_state=42)\n",
    "for fold, (train_idx, valid_idx) in enumerate(skf.split(train[features], train['Survived'])):\n",
    "    X_train, X_valid = train.iloc[train_idx], train.iloc[valid_idx]\n",
    "    y_train = X_train['Survived']\n",
    "    y_valid = X_valid['Survived']\n",
    "    X_train = X_train.drop('Survived', axis=1)\n",
    "    X_valid = X_valid.drop('Survived', axis=1)\n",
    "\n",
    "    model = XGBClassifier(\n",
    "        random_state=42,\n",
    "        use_label_encoder=False,\n",
    "        eval_metric=\"logloss\"\n",
    "    )\n",
    "\n",
    "    model =  model.fit(X_train, y_train, eval_set=[(X_valid, y_valid)], verbose=0)\n",
    "    temp_oof = model.predict(X_valid)\n",
    "    train_oof[valid_idx] = temp_oof\n",
    "    print(f'Fold {fold} Accuracy: ', accuracy_score(y_valid, temp_oof))\n",
    "    \n",
    "print(f'OOF Accuracy: ', accuracy_score(train['Survived'], train_oof))\n",
    "model_results['XGBoost'] = train_oof"
   ]
  },
  {
   "cell_type": "markdown",
   "id": "outer-samuel",
   "metadata": {
    "papermill": {
     "duration": 0.065476,
     "end_time": "2021-04-25T02:32:58.985594",
     "exception": false,
     "start_time": "2021-04-25T02:32:58.920118",
     "status": "completed"
    },
    "tags": []
   },
   "source": [
    "[back to top](#table-of-contents)\n",
    "<a id=\"3.3\"></a>\n",
    "## 3.3. LGBM\n",
    "`LGBM` is in the last position with `0.78061` accuracy."
   ]
  },
  {
   "cell_type": "code",
   "execution_count": 7,
   "id": "creative-center",
   "metadata": {
    "_kg_hide-input": true,
    "execution": {
     "iopub.execute_input": "2021-04-25T02:32:59.127596Z",
     "iopub.status.busy": "2021-04-25T02:32:59.124270Z",
     "iopub.status.idle": "2021-04-25T02:33:03.442753Z",
     "shell.execute_reply": "2021-04-25T02:33:03.441941Z"
    },
    "papermill": {
     "duration": 4.393009,
     "end_time": "2021-04-25T02:33:03.442939",
     "exception": false,
     "start_time": "2021-04-25T02:32:59.049930",
     "status": "completed"
    },
    "tags": []
   },
   "outputs": [
    {
     "name": "stdout",
     "output_type": "stream",
     "text": [
      "Fold 0 Accuracy:  0.7827\n",
      "Fold 1 Accuracy:  0.78435\n",
      "Fold 2 Accuracy:  0.7813\n",
      "Fold 3 Accuracy:  0.7798\n",
      "Fold 4 Accuracy:  0.7749\n",
      "OOF Accuracy:  0.78061\n"
     ]
    }
   ],
   "source": [
    "cat_features_index = []\n",
    "for col in cat_features:\n",
    "    cat_features_index.append(train.columns.get_loc(col))\n",
    "\n",
    "train_oof = np.zeros((100000,))\n",
    "skf = StratifiedKFold(n_splits=folds, shuffle=True, random_state=42)\n",
    "for fold, (train_idx, valid_idx) in enumerate(skf.split(train[features], train['Survived'])):\n",
    "    X_train, X_valid = train.iloc[train_idx], train.iloc[valid_idx]\n",
    "    y_train = X_train['Survived']\n",
    "    y_valid = X_valid['Survived']\n",
    "    X_train = X_train.drop('Survived', axis=1)\n",
    "    X_valid = X_valid.drop('Survived', axis=1)\n",
    "\n",
    "    model = LGBMClassifier(\n",
    "        verbose=0,\n",
    "        metric=\"Accuracy\",\n",
    "        random_state=42,\n",
    "        cat_feature=cat_features_index,\n",
    "        force_row_wise=True\n",
    "    )\n",
    "\n",
    "    model =  model.fit(X_train, y_train, eval_set=[(X_valid, y_valid)], verbose=0)\n",
    "    temp_oof = model.predict(X_valid)\n",
    "    train_oof[valid_idx] = temp_oof\n",
    "    print(f'Fold {fold} Accuracy: ', accuracy_score(y_valid, temp_oof))\n",
    "    \n",
    "print(f'OOF Accuracy: ', accuracy_score(train['Survived'], train_oof))\n",
    "model_results['LGBM'] = train_oof"
   ]
  },
  {
   "cell_type": "markdown",
   "id": "abstract-texas",
   "metadata": {
    "papermill": {
     "duration": 0.065858,
     "end_time": "2021-04-25T02:33:03.575506",
     "exception": false,
     "start_time": "2021-04-25T02:33:03.509648",
     "status": "completed"
    },
    "tags": []
   },
   "source": [
    "[back to top](#table-of-contents)\n",
    "<a id=\"3.4\"></a>\n",
    "## 3.4. Hard voting\n",
    "`Hard Voting` ensemble accuracy of `0.78154` higher than individual accuracy of `XGBoost` and `LGBM`."
   ]
  },
  {
   "cell_type": "code",
   "execution_count": 8,
   "id": "hidden-munich",
   "metadata": {
    "_kg_hide-input": true,
    "execution": {
     "iopub.execute_input": "2021-04-25T02:33:03.716062Z",
     "iopub.status.busy": "2021-04-25T02:33:03.714737Z",
     "iopub.status.idle": "2021-04-25T02:33:03.753225Z",
     "shell.execute_reply": "2021-04-25T02:33:03.753775Z"
    },
    "papermill": {
     "duration": 0.11116,
     "end_time": "2021-04-25T02:33:03.753952",
     "exception": false,
     "start_time": "2021-04-25T02:33:03.642792",
     "status": "completed"
    },
    "tags": []
   },
   "outputs": [
    {
     "name": "stdout",
     "output_type": "stream",
     "text": [
      "OOF Accuracy:  0.78122\n"
     ]
    }
   ],
   "source": [
    "train_oof = np.zeros((100000,))\n",
    "train_oof = np.where(model_results.sum(axis=1) > 2, 1, 0)\n",
    "print(f'OOF Accuracy: ', accuracy_score(train['Survived'], train_oof))"
   ]
  },
  {
   "cell_type": "markdown",
   "id": "responsible-onion",
   "metadata": {
    "papermill": {
     "duration": 0.066724,
     "end_time": "2021-04-25T02:33:03.888366",
     "exception": false,
     "start_time": "2021-04-25T02:33:03.821642",
     "status": "completed"
    },
    "tags": []
   },
   "source": [
    "[back to top](#table-of-contents)\n",
    "<a id=\"4\"></a>\n",
    "# 4. Features Engineering\n",
    "This section will explore if there are new feature that can be generated from the dataset and improved the baseline model accuracy. Baseline model that will be used is `LGBM` as it is light and fast. `LGBM` baseline accuracy is `0.78061`, it's expected by adding/removing feature/s will give a better accuracy than the baseline model."
   ]
  },
  {
   "cell_type": "code",
   "execution_count": 9,
   "id": "joint-skating",
   "metadata": {
    "_kg_hide-input": true,
    "execution": {
     "iopub.execute_input": "2021-04-25T02:33:04.040400Z",
     "iopub.status.busy": "2021-04-25T02:33:04.039412Z",
     "iopub.status.idle": "2021-04-25T02:33:04.042480Z",
     "shell.execute_reply": "2021-04-25T02:33:04.042932Z"
    },
    "papermill": {
     "duration": 0.085651,
     "end_time": "2021-04-25T02:33:04.043104",
     "exception": false,
     "start_time": "2021-04-25T02:33:03.957453",
     "status": "completed"
    },
    "tags": []
   },
   "outputs": [],
   "source": [
    "def combine_dataset():\n",
    "    train = pd.read_csv('../input/tabular-playground-series-apr-2021/train.csv')\n",
    "    test = pd.read_csv('../input/tabular-playground-series-apr-2021/test.csv')\n",
    "    return pd.concat([train, test], axis=0)\n",
    "\n",
    "def lgbm_oof(combine, cat_features):\n",
    "    cont_features = [col for col in combine.columns if col not in cat_features + ['Survived']]\n",
    "    features = cat_features + cont_features\n",
    "\n",
    "    label_encoder = LabelEncoder()\n",
    "    for col in cat_features:\n",
    "        combine[col] = label_encoder.fit_transform(combine[col])\n",
    "    train = combine.iloc[:100000, :]\n",
    "    test = combine.iloc[100000:, :]\n",
    "    test = test.drop('Survived', axis=1)\n",
    "\n",
    "    cat_features_index = []\n",
    "    for col in cat_features:\n",
    "        cat_features_index.append(train.columns.get_loc(col))    \n",
    "\n",
    "    train_oof = np.zeros((100000,))\n",
    "    skf = StratifiedKFold(n_splits=folds, shuffle=True, random_state=42)\n",
    "    for fold, (train_idx, valid_idx) in enumerate(skf.split(train[features], train['Survived'])):\n",
    "        X_train, X_valid = train.iloc[train_idx], train.iloc[valid_idx]\n",
    "        y_train = X_train['Survived']\n",
    "        y_valid = X_valid['Survived']\n",
    "        X_train = X_train.drop('Survived', axis=1)\n",
    "        X_valid = X_valid.drop('Survived', axis=1)\n",
    "\n",
    "        model = LGBMClassifier(\n",
    "            verbose=0,\n",
    "            metric=\"Accuracy\",\n",
    "            random_state=42,\n",
    "            cat_feature=cat_features_index,\n",
    "            force_row_wise=True\n",
    "        )\n",
    "\n",
    "        model =  model.fit(X_train, y_train, eval_set=[(X_valid, y_valid)])\n",
    "        temp_oof = model.predict(X_valid)\n",
    "        train_oof[valid_idx] = temp_oof\n",
    "        print(f'Fold {fold} Accuracy: ', accuracy_score(y_valid, temp_oof))\n",
    "\n",
    "    print(f'OOF Accuracy: ', accuracy_score(train['Survived'], train_oof))"
   ]
  },
  {
   "cell_type": "markdown",
   "id": "employed-resident",
   "metadata": {
    "papermill": {
     "duration": 0.081188,
     "end_time": "2021-04-25T02:33:04.195946",
     "exception": false,
     "start_time": "2021-04-25T02:33:04.114758",
     "status": "completed"
    },
    "tags": []
   },
   "source": [
    "[back to top](#table-of-contents)\n",
    "<a id=\"4.1\"></a>\n",
    "## 4.1. Family\n",
    "This is one of the most popular feature engineering for `Titanic` dataset. It added `SibSp` and `Parch` together to create a new feature called `Family`.\n",
    "\n",
    "**Observations:**\n",
    "* It seems that adding `Family` feature doesn't improve the model.\n",
    "* Adding `Family` and also keeping `SibSp` and `Parch` has a better accuracy than removing `SibSp` and `Parch`.\n",
    "\n",
    "### 4.1.1. Add Family - Continuous\n",
    " \n",
    "* Add `Family` features and also keep `SibSp` and `Parch` to see if `SibSp` and `Parch` features can help imporove the model performance. \n",
    "* Adding `Family` features into the data increased the model accuracy to `0.78055`."
   ]
  },
  {
   "cell_type": "code",
   "execution_count": 10,
   "id": "ideal-arabic",
   "metadata": {
    "_kg_hide-input": true,
    "execution": {
     "iopub.execute_input": "2021-04-25T02:33:04.346622Z",
     "iopub.status.busy": "2021-04-25T02:33:04.345935Z",
     "iopub.status.idle": "2021-04-25T02:33:11.032470Z",
     "shell.execute_reply": "2021-04-25T02:33:11.033004Z"
    },
    "papermill": {
     "duration": 6.761871,
     "end_time": "2021-04-25T02:33:11.033178",
     "exception": false,
     "start_time": "2021-04-25T02:33:04.271307",
     "status": "completed"
    },
    "tags": []
   },
   "outputs": [
    {
     "name": "stdout",
     "output_type": "stream",
     "text": [
      "Fold 0 Accuracy:  0.78155\n",
      "Fold 1 Accuracy:  0.78355\n",
      "Fold 2 Accuracy:  0.7811\n",
      "Fold 3 Accuracy:  0.77965\n",
      "Fold 4 Accuracy:  0.7769\n",
      "OOF Accuracy:  0.78055\n"
     ]
    }
   ],
   "source": [
    "combine = combine_dataset()\n",
    "\n",
    "combine['Family'] = combine['Parch'] + combine['SibSp']\n",
    "combine['Cabin'] = combine[\"Cabin\"].str[0]\n",
    "combine['Ticket'] = combine['Ticket'].fillna('NA')\n",
    "combine['Cabin'] = combine['Cabin'].fillna('NA')\n",
    "combine['Embarked'] = combine['Embarked'].fillna('NA')\n",
    "combine['Fare'] = combine['Fare'].fillna(np.mean(combine['Fare']))\n",
    "combine['Age'] = combine['Age'].fillna(np.mean(combine['Age']))\n",
    "combine = combine.drop(['PassengerId'], axis=1)\n",
    "cat_features = ['Pclass', 'Sex', 'Cabin', 'Embarked', 'Name', 'Ticket']\n",
    "\n",
    "lgbm_oof(combine, cat_features)"
   ]
  },
  {
   "cell_type": "markdown",
   "id": "whole-mount",
   "metadata": {
    "papermill": {
     "duration": 0.068248,
     "end_time": "2021-04-25T02:33:11.170734",
     "exception": false,
     "start_time": "2021-04-25T02:33:11.102486",
     "status": "completed"
    },
    "tags": []
   },
   "source": [
    "### 4.1.2. Add Family and remove SibSp and Parch - Continuous\n",
    "\n",
    "* Add `Family` features and remove `SibSp` and `Parch` features to see if `SibSp` and `Parch` is createing noise to the model. \n",
    "* Deleting `SibSp` and `Parch` decreased the accuracy to `0.78049`."
   ]
  },
  {
   "cell_type": "code",
   "execution_count": 11,
   "id": "recreational-saturn",
   "metadata": {
    "_kg_hide-input": true,
    "execution": {
     "iopub.execute_input": "2021-04-25T02:33:11.315562Z",
     "iopub.status.busy": "2021-04-25T02:33:11.314877Z",
     "iopub.status.idle": "2021-04-25T02:33:17.708075Z",
     "shell.execute_reply": "2021-04-25T02:33:17.709053Z"
    },
    "papermill": {
     "duration": 6.47014,
     "end_time": "2021-04-25T02:33:17.709347",
     "exception": false,
     "start_time": "2021-04-25T02:33:11.239207",
     "status": "completed"
    },
    "tags": []
   },
   "outputs": [
    {
     "name": "stdout",
     "output_type": "stream",
     "text": [
      "Fold 0 Accuracy:  0.7817\n",
      "Fold 1 Accuracy:  0.78465\n",
      "Fold 2 Accuracy:  0.78095\n",
      "Fold 3 Accuracy:  0.77915\n",
      "Fold 4 Accuracy:  0.776\n",
      "OOF Accuracy:  0.78049\n"
     ]
    }
   ],
   "source": [
    "combine = combine_dataset()\n",
    "\n",
    "combine['Family'] = combine['Parch'] + combine['SibSp']\n",
    "combine['Cabin'] = combine[\"Cabin\"].str[0]\n",
    "combine['Ticket'] = combine['Ticket'].fillna('NA')\n",
    "combine['Cabin'] = combine['Cabin'].fillna('NA')\n",
    "combine['Embarked'] = combine['Embarked'].fillna('NA')\n",
    "combine['Fare'] = combine['Fare'].fillna(np.mean(combine['Fare']))\n",
    "combine['Age'] = combine['Age'].fillna(np.mean(combine['Age']))\n",
    "combine = combine.drop(['PassengerId', 'SibSp', 'Parch'], axis=1)\n",
    "cat_features = ['Pclass', 'Sex', 'Cabin', 'Embarked', 'Name', 'Ticket']\n",
    "\n",
    "lgbm_oof(combine, cat_features)"
   ]
  },
  {
   "cell_type": "markdown",
   "id": "fabulous-swimming",
   "metadata": {
    "papermill": {
     "duration": 0.069318,
     "end_time": "2021-04-25T02:33:17.850334",
     "exception": false,
     "start_time": "2021-04-25T02:33:17.781016",
     "status": "completed"
    },
    "tags": []
   },
   "source": [
    "[back to top](#table-of-contents)\n",
    "<a id=\"4.2\"></a>\n",
    "## 4.2. Without family\n",
    "Continuing the `Family` feature, a `WithoutFamily` categorical feature can also be derived to indicate if a passenger is traveling with/without family.\n",
    "\n",
    "**Observations:**\n",
    "* Creating a new `WithoutFamily` categorical feature doesn't improve the model, removing `SibSp` and `Parch` features results to a worse model than keeping them.\n",
    "\n",
    "### 4.2.1. Adding WithoutFamily feature - Categorical\n",
    "* Add `WithoutFamily` feature to see if it can improve the prediction. \n",
    "* `WithoutFamily` feature decreased the accuracy score to `0.77986`."
   ]
  },
  {
   "cell_type": "code",
   "execution_count": 12,
   "id": "constant-petroleum",
   "metadata": {
    "_kg_hide-input": true,
    "execution": {
     "iopub.execute_input": "2021-04-25T02:33:17.993858Z",
     "iopub.status.busy": "2021-04-25T02:33:17.993237Z",
     "iopub.status.idle": "2021-04-25T02:33:24.839289Z",
     "shell.execute_reply": "2021-04-25T02:33:24.838481Z"
    },
    "papermill": {
     "duration": 6.91934,
     "end_time": "2021-04-25T02:33:24.839475",
     "exception": false,
     "start_time": "2021-04-25T02:33:17.920135",
     "status": "completed"
    },
    "tags": []
   },
   "outputs": [
    {
     "name": "stdout",
     "output_type": "stream",
     "text": [
      "Fold 0 Accuracy:  0.7816\n",
      "Fold 1 Accuracy:  0.78295\n",
      "Fold 2 Accuracy:  0.78075\n",
      "Fold 3 Accuracy:  0.77855\n",
      "Fold 4 Accuracy:  0.77545\n",
      "OOF Accuracy:  0.77986\n"
     ]
    }
   ],
   "source": [
    "combine = combine_dataset()\n",
    "\n",
    "combine['Family'] = combine['Parch'] + combine['SibSp']\n",
    "combine['WithoutFamily'] = np.where(combine['Family']==0, 1, 0)\n",
    "combine['Cabin'] = combine[\"Cabin\"].str[0]\n",
    "combine['Ticket'] = combine['Ticket'].fillna('NA')\n",
    "combine['Cabin'] = combine['Cabin'].fillna('NA')\n",
    "combine['Embarked'] = combine['Embarked'].fillna('NA')\n",
    "combine['Fare'] = combine['Fare'].fillna(np.mean(combine['Fare']))\n",
    "combine['Age'] = combine['Age'].fillna(np.mean(combine['Age']))\n",
    "combine = combine.drop(['PassengerId', 'Family'], axis=1)\n",
    "cat_features = ['Pclass', 'Sex', 'Cabin', 'Embarked', 'Name', 'Ticket', 'WithoutFamily']\n",
    "\n",
    "lgbm_oof(combine, cat_features)"
   ]
  },
  {
   "cell_type": "markdown",
   "id": "remarkable-appendix",
   "metadata": {
    "papermill": {
     "duration": 0.072158,
     "end_time": "2021-04-25T02:33:24.984016",
     "exception": false,
     "start_time": "2021-04-25T02:33:24.911858",
     "status": "completed"
    },
    "tags": []
   },
   "source": [
    "### 4.2.2. Adding WithoutFamily feature and remove SibSp and Parch - Categorical\n",
    "Add `WithoutFamily` feature  while remove `SibSp` and `Parch` to see if these 2 features add noise to the model. `WithoutFamily` without`SibSp` and `Parch` features decreased accuracy score to `0.7766`."
   ]
  },
  {
   "cell_type": "code",
   "execution_count": 13,
   "id": "polar-substitute",
   "metadata": {
    "_kg_hide-input": true,
    "execution": {
     "iopub.execute_input": "2021-04-25T02:33:25.136846Z",
     "iopub.status.busy": "2021-04-25T02:33:25.136140Z",
     "iopub.status.idle": "2021-04-25T02:33:31.683485Z",
     "shell.execute_reply": "2021-04-25T02:33:31.682570Z"
    },
    "papermill": {
     "duration": 6.627385,
     "end_time": "2021-04-25T02:33:31.683634",
     "exception": false,
     "start_time": "2021-04-25T02:33:25.056249",
     "status": "completed"
    },
    "tags": []
   },
   "outputs": [
    {
     "name": "stdout",
     "output_type": "stream",
     "text": [
      "Fold 0 Accuracy:  0.78185\n",
      "Fold 1 Accuracy:  0.7837\n",
      "Fold 2 Accuracy:  0.78055\n",
      "Fold 3 Accuracy:  0.78055\n",
      "Fold 4 Accuracy:  0.7752\n",
      "OOF Accuracy:  0.78037\n"
     ]
    }
   ],
   "source": [
    "combine = combine_dataset()\n",
    "\n",
    "combine['Family'] = combine['Parch'] + combine['SibSp']\n",
    "combine['WithoutFamily'] = np.where(combine['Family']==0, 1, 0)\n",
    "combine['Cabin'] = combine[\"Cabin\"].str[0]\n",
    "combine['Ticket'] = combine['Ticket'].fillna('NA')\n",
    "combine['Cabin'] = combine['Cabin'].fillna('NA')\n",
    "combine['Embarked'] = combine['Embarked'].fillna('NA')\n",
    "combine['Fare'] = combine['Fare'].fillna(np.mean(combine['Fare']))\n",
    "combine['Age'] = combine['Age'].fillna(np.mean(combine['Age']))\n",
    "combine = combine.drop(['PassengerId', 'Family', 'SibSp', 'Parch'], axis=1)\n",
    "cat_features = ['Pclass', 'Sex', 'Cabin', 'Embarked', 'Name', 'Ticket', 'WithoutFamily']\n",
    "\n",
    "lgbm_oof(combine, cat_features)"
   ]
  },
  {
   "cell_type": "markdown",
   "id": "furnished-supply",
   "metadata": {
    "papermill": {
     "duration": 0.07265,
     "end_time": "2021-04-25T02:33:31.832358",
     "exception": false,
     "start_time": "2021-04-25T02:33:31.759708",
     "status": "completed"
    },
    "tags": []
   },
   "source": [
    "[back to top](#table-of-contents)\n",
    "<a id=\"4.3\"></a>\n",
    "## 4.3. First name and last name\n",
    "There are 2 general methods that will be explored to generate new feature/s from `Name`:\n",
    "* Extracting the first letter from the `first name` and `last name`.\n",
    "* Extracting the character length of `first name` and `last name`.\n",
    "\n",
    "**Observations:**\n",
    "* There is only one feature that improved the model accuracy by adding`first name` and `last name` features as continuous **(4.3.6)** but the improvement is considered small compared to the baseline model.\n",
    "\n",
    "### 4.3.1. Last Name - Categorical\n",
    "* Extract `last name` first letter from `Name` feature and convert it into categorical feature using label encoding.\n",
    "* Converting the first letter from `last name` and convert it into categorical feature resulted to `0.78005` accuracy which doesn't improve the accuracy"
   ]
  },
  {
   "cell_type": "code",
   "execution_count": 14,
   "id": "standard-carolina",
   "metadata": {
    "_kg_hide-input": true,
    "execution": {
     "iopub.execute_input": "2021-04-25T02:33:31.990331Z",
     "iopub.status.busy": "2021-04-25T02:33:31.989684Z",
     "iopub.status.idle": "2021-04-25T02:33:39.483174Z",
     "shell.execute_reply": "2021-04-25T02:33:39.483921Z"
    },
    "papermill": {
     "duration": 7.577624,
     "end_time": "2021-04-25T02:33:39.484157",
     "exception": false,
     "start_time": "2021-04-25T02:33:31.906533",
     "status": "completed"
    },
    "tags": []
   },
   "outputs": [
    {
     "name": "stdout",
     "output_type": "stream",
     "text": [
      "Fold 0 Accuracy:  0.7814\n",
      "Fold 1 Accuracy:  0.78335\n",
      "Fold 2 Accuracy:  0.7807\n",
      "Fold 3 Accuracy:  0.7801\n",
      "Fold 4 Accuracy:  0.7747\n",
      "OOF Accuracy:  0.78005\n"
     ]
    }
   ],
   "source": [
    "combine = combine_dataset()\n",
    "\n",
    "combine['Cabin'] = combine[\"Cabin\"].str[0]\n",
    "combine['Ticket'] = combine['Ticket'].fillna('NA')\n",
    "combine['Cabin'] = combine['Cabin'].fillna('NA')\n",
    "combine['Embarked'] = combine['Embarked'].fillna('NA')\n",
    "combine['Fare'] = combine['Fare'].fillna(np.mean(combine['Fare']))\n",
    "combine['Age'] = combine['Age'].fillna(np.mean(combine['Age']))\n",
    "combine = pd.concat([combine, combine['Name'].str.split(',', expand=True)], axis=1)\n",
    "combine = combine.rename(columns={0: 'LastName', 1:'FirstName'})\n",
    "combine['LastName'] = combine[\"LastName\"].str[0]\n",
    "combine = combine.drop(['Name', 'FirstName', 'PassengerId'], axis=1)\n",
    "cat_features = ['Pclass', 'Sex', 'Cabin', 'Embarked', 'Ticket', 'LastName']\n",
    "\n",
    "lgbm_oof(combine, cat_features)"
   ]
  },
  {
   "cell_type": "markdown",
   "id": "stone-disability",
   "metadata": {
    "papermill": {
     "duration": 0.075942,
     "end_time": "2021-04-25T02:33:39.635826",
     "exception": false,
     "start_time": "2021-04-25T02:33:39.559884",
     "status": "completed"
    },
    "tags": []
   },
   "source": [
    "### 4.3.2. First Name - Categorical\n",
    "* Extract `first name` first letter from `Name` feature and convert it into categorical feature using label encoding.\n",
    "* Adding a categorical `first name` from the first letter only doesn't improve the model, the accuracy drop to `0.77979`."
   ]
  },
  {
   "cell_type": "code",
   "execution_count": 15,
   "id": "short-network",
   "metadata": {
    "_kg_hide-input": true,
    "execution": {
     "iopub.execute_input": "2021-04-25T02:33:39.795086Z",
     "iopub.status.busy": "2021-04-25T02:33:39.794366Z",
     "iopub.status.idle": "2021-04-25T02:33:46.764995Z",
     "shell.execute_reply": "2021-04-25T02:33:46.765524Z"
    },
    "papermill": {
     "duration": 7.054717,
     "end_time": "2021-04-25T02:33:46.765716",
     "exception": false,
     "start_time": "2021-04-25T02:33:39.710999",
     "status": "completed"
    },
    "tags": []
   },
   "outputs": [
    {
     "name": "stdout",
     "output_type": "stream",
     "text": [
      "Fold 0 Accuracy:  0.78165\n",
      "Fold 1 Accuracy:  0.78275\n",
      "Fold 2 Accuracy:  0.7804\n",
      "Fold 3 Accuracy:  0.77955\n",
      "Fold 4 Accuracy:  0.7746\n",
      "OOF Accuracy:  0.77979\n"
     ]
    }
   ],
   "source": [
    "combine = combine_dataset()\n",
    "\n",
    "combine['Cabin'] = combine[\"Cabin\"].str[0]\n",
    "combine['Ticket'] = combine['Ticket'].fillna('NA')\n",
    "combine['Cabin'] = combine['Cabin'].fillna('NA')\n",
    "combine['Embarked'] = combine['Embarked'].fillna('NA')\n",
    "combine['Fare'] = combine['Fare'].fillna(np.mean(combine['Fare']))\n",
    "combine['Age'] = combine['Age'].fillna(np.mean(combine['Age']))\n",
    "combine = pd.concat([combine, combine['Name'].str.split(',', expand=True)], axis=1)\n",
    "combine = combine.rename(columns={0:'LastName', 1: 'FirstName'})\n",
    "combine['FirstName'] = combine[\"FirstName\"].str[1]\n",
    "combine = combine.drop(['Name', 'LastName', 'PassengerId'], axis=1)\n",
    "cat_features = ['Pclass', 'Sex', 'Cabin', 'Embarked', 'Ticket', 'FirstName']\n",
    "\n",
    "lgbm_oof(combine, cat_features)"
   ]
  },
  {
   "cell_type": "markdown",
   "id": "expanded-alexandria",
   "metadata": {
    "papermill": {
     "duration": 0.077005,
     "end_time": "2021-04-25T02:33:46.920483",
     "exception": false,
     "start_time": "2021-04-25T02:33:46.843478",
     "status": "completed"
    },
    "tags": []
   },
   "source": [
    "### 4.3.3. First name and last name - Categorical\n",
    "* Extract `first name` and `last name` first letter from `Name` feature and convert them into categorical feature using label encoding.\n",
    "* Adding both `first name` and `last name` from the first letter only doesn't improve the model, the accuracy drop to `0.77171`."
   ]
  },
  {
   "cell_type": "code",
   "execution_count": 16,
   "id": "configured-thickness",
   "metadata": {
    "_kg_hide-input": true,
    "execution": {
     "iopub.execute_input": "2021-04-25T02:33:47.077997Z",
     "iopub.status.busy": "2021-04-25T02:33:47.077288Z",
     "iopub.status.idle": "2021-04-25T02:33:57.722233Z",
     "shell.execute_reply": "2021-04-25T02:33:57.723126Z"
    },
    "papermill": {
     "duration": 10.725514,
     "end_time": "2021-04-25T02:33:57.723301",
     "exception": false,
     "start_time": "2021-04-25T02:33:46.997787",
     "status": "completed"
    },
    "tags": []
   },
   "outputs": [
    {
     "name": "stdout",
     "output_type": "stream",
     "text": [
      "Fold 0 Accuracy:  0.7751\n",
      "Fold 1 Accuracy:  0.77485\n",
      "Fold 2 Accuracy:  0.7726\n",
      "Fold 3 Accuracy:  0.7698\n",
      "Fold 4 Accuracy:  0.7662\n",
      "OOF Accuracy:  0.77171\n"
     ]
    }
   ],
   "source": [
    "combine = combine_dataset()\n",
    "\n",
    "combine['Cabin'] = combine[\"Cabin\"].str[0]\n",
    "combine['Ticket'] = combine['Ticket'].fillna('NA')\n",
    "combine['Cabin'] = combine['Cabin'].fillna('NA')\n",
    "combine['Embarked'] = combine['Embarked'].fillna('NA')\n",
    "combine['Fare'] = combine['Fare'].fillna(np.mean(combine['Fare']))\n",
    "combine['Age'] = combine['Age'].fillna(np.mean(combine['Age']))\n",
    "combine = pd.concat([combine, combine['Name'].str.split(',', expand=True)], axis=1)\n",
    "combine = combine.rename(columns={0:'LastName', 1: 'FirstName'})\n",
    "combine['FirstName'] = combine[\"FirstName\"].str[1:]\n",
    "combine['LastName'] = combine[\"LastName\"].str[0:]\n",
    "combine = combine.drop(['Name', 'PassengerId'], axis=1)\n",
    "cat_features = ['Pclass', 'Sex', 'Cabin', 'Embarked', 'Ticket', 'FirstName', 'LastName']\n",
    "\n",
    "lgbm_oof(combine, cat_features)"
   ]
  },
  {
   "cell_type": "markdown",
   "id": "exciting-compiler",
   "metadata": {
    "papermill": {
     "duration": 0.077311,
     "end_time": "2021-04-25T02:33:57.878196",
     "exception": false,
     "start_time": "2021-04-25T02:33:57.800885",
     "status": "completed"
    },
    "tags": []
   },
   "source": [
    "### 4.3.4. Last Name - Continuous\n",
    "* Extract `last name` and calculate its length from `Name` feature.\n",
    "* Taking the length of `last name` doesn't improve the accuracy, it landed at `0.78016`."
   ]
  },
  {
   "cell_type": "code",
   "execution_count": 17,
   "id": "sunset-chaos",
   "metadata": {
    "_kg_hide-input": true,
    "execution": {
     "iopub.execute_input": "2021-04-25T02:33:58.046400Z",
     "iopub.status.busy": "2021-04-25T02:33:58.045743Z",
     "iopub.status.idle": "2021-04-25T02:34:04.873764Z",
     "shell.execute_reply": "2021-04-25T02:34:04.874383Z"
    },
    "papermill": {
     "duration": 6.916475,
     "end_time": "2021-04-25T02:34:04.874570",
     "exception": false,
     "start_time": "2021-04-25T02:33:57.958095",
     "status": "completed"
    },
    "tags": []
   },
   "outputs": [
    {
     "name": "stdout",
     "output_type": "stream",
     "text": [
      "Fold 0 Accuracy:  0.78245\n",
      "Fold 1 Accuracy:  0.78455\n",
      "Fold 2 Accuracy:  0.78015\n",
      "Fold 3 Accuracy:  0.7794\n",
      "Fold 4 Accuracy:  0.77425\n",
      "OOF Accuracy:  0.78016\n"
     ]
    }
   ],
   "source": [
    "combine = combine_dataset()\n",
    "\n",
    "combine['Cabin'] = combine[\"Cabin\"].str[0]\n",
    "combine['Ticket'] = combine['Ticket'].fillna('NA')\n",
    "combine['Cabin'] = combine['Cabin'].fillna('NA')\n",
    "combine['Embarked'] = combine['Embarked'].fillna('NA')\n",
    "combine['Fare'] = combine['Fare'].fillna(np.mean(combine['Fare']))\n",
    "combine['Age'] = combine['Age'].fillna(np.mean(combine['Age']))\n",
    "combine = pd.concat([combine, combine['Name'].str.split(',', expand=True)], axis=1)\n",
    "combine = combine.rename(columns={0:'LastName', 1: 'FirstName'})\n",
    "combine['LastName'] = combine[\"LastName\"].str.len()\n",
    "combine = combine.drop(['Name', 'FirstName', 'PassengerId'], axis=1)\n",
    "cat_features = ['Pclass', 'Sex', 'Cabin', 'Embarked', 'Ticket']\n",
    "\n",
    "lgbm_oof(combine, cat_features)"
   ]
  },
  {
   "cell_type": "markdown",
   "id": "controlled-milton",
   "metadata": {
    "papermill": {
     "duration": 0.08067,
     "end_time": "2021-04-25T02:34:05.034761",
     "exception": false,
     "start_time": "2021-04-25T02:34:04.954091",
     "status": "completed"
    },
    "tags": []
   },
   "source": [
    "### 4.3.5. First Name - Continuous\n",
    "* Extract `first name` and calculate its length from `Name` feature.\n",
    "* Using the `first name` as continuous feature doesn't improve the model, accuracy is at `0.78049`."
   ]
  },
  {
   "cell_type": "code",
   "execution_count": 18,
   "id": "million-ecology",
   "metadata": {
    "_kg_hide-input": true,
    "execution": {
     "iopub.execute_input": "2021-04-25T02:34:05.203551Z",
     "iopub.status.busy": "2021-04-25T02:34:05.202888Z",
     "iopub.status.idle": "2021-04-25T02:34:12.074172Z",
     "shell.execute_reply": "2021-04-25T02:34:12.073024Z"
    },
    "papermill": {
     "duration": 6.95977,
     "end_time": "2021-04-25T02:34:12.074367",
     "exception": false,
     "start_time": "2021-04-25T02:34:05.114597",
     "status": "completed"
    },
    "tags": []
   },
   "outputs": [
    {
     "name": "stdout",
     "output_type": "stream",
     "text": [
      "Fold 0 Accuracy:  0.78275\n",
      "Fold 1 Accuracy:  0.78405\n",
      "Fold 2 Accuracy:  0.7807\n",
      "Fold 3 Accuracy:  0.78055\n",
      "Fold 4 Accuracy:  0.7744\n",
      "OOF Accuracy:  0.78049\n"
     ]
    }
   ],
   "source": [
    "combine = combine_dataset()\n",
    "\n",
    "combine['Cabin'] = combine[\"Cabin\"].str[0]\n",
    "combine['Ticket'] = combine['Ticket'].fillna('NA')\n",
    "combine['Cabin'] = combine['Cabin'].fillna('NA')\n",
    "combine['Embarked'] = combine['Embarked'].fillna('NA')\n",
    "combine['Fare'] = combine['Fare'].fillna(np.mean(combine['Fare']))\n",
    "combine['Age'] = combine['Age'].fillna(np.mean(combine['Age']))\n",
    "combine = pd.concat([combine, combine['Name'].str.split(',', expand=True)], axis=1)\n",
    "combine = combine.rename(columns={0:'LastName', 1: 'FirstName'})\n",
    "combine['FirstName'] = combine[\"FirstName\"].str[1:]\n",
    "combine['FirstName'] = combine['FirstName'].str.len()\n",
    "combine = combine.drop(['Name', 'LastName', 'PassengerId'], axis=1)\n",
    "cat_features = ['Pclass', 'Sex', 'Cabin', 'Embarked', 'Ticket']\n",
    "\n",
    "lgbm_oof(combine, cat_features)"
   ]
  },
  {
   "cell_type": "markdown",
   "id": "optimum-notion",
   "metadata": {
    "papermill": {
     "duration": 0.081028,
     "end_time": "2021-04-25T02:34:12.238553",
     "exception": false,
     "start_time": "2021-04-25T02:34:12.157525",
     "status": "completed"
    },
    "tags": []
   },
   "source": [
    "### 4.3.6. First name and last Name - Continuous\n",
    "* Extract `first name` and `last name` and calculate its length from `Name` feature.\n",
    "* Adding both `first name` and `last name` as continuous features improved the accuracy to `0.78067`."
   ]
  },
  {
   "cell_type": "code",
   "execution_count": 19,
   "id": "increasing-feelings",
   "metadata": {
    "_kg_hide-input": true,
    "execution": {
     "iopub.execute_input": "2021-04-25T02:34:12.411384Z",
     "iopub.status.busy": "2021-04-25T02:34:12.410744Z",
     "iopub.status.idle": "2021-04-25T02:34:19.434779Z",
     "shell.execute_reply": "2021-04-25T02:34:19.435316Z"
    },
    "papermill": {
     "duration": 7.114936,
     "end_time": "2021-04-25T02:34:19.435514",
     "exception": false,
     "start_time": "2021-04-25T02:34:12.320578",
     "status": "completed"
    },
    "tags": []
   },
   "outputs": [
    {
     "name": "stdout",
     "output_type": "stream",
     "text": [
      "Fold 0 Accuracy:  0.7822\n",
      "Fold 1 Accuracy:  0.7845\n",
      "Fold 2 Accuracy:  0.7813\n",
      "Fold 3 Accuracy:  0.7796\n",
      "Fold 4 Accuracy:  0.77575\n",
      "OOF Accuracy:  0.78067\n"
     ]
    }
   ],
   "source": [
    "combine = combine_dataset()\n",
    "\n",
    "combine['Cabin'] = combine[\"Cabin\"].str[0]\n",
    "combine['Ticket'] = combine['Ticket'].fillna('NA')\n",
    "combine['Cabin'] = combine['Cabin'].fillna('NA')\n",
    "combine['Embarked'] = combine['Embarked'].fillna('NA')\n",
    "combine['Fare'] = combine['Fare'].fillna(np.mean(combine['Fare']))\n",
    "combine['Age'] = combine['Age'].fillna(np.mean(combine['Age']))\n",
    "combine = pd.concat([combine, combine['Name'].str.split(',', expand=True)], axis=1)\n",
    "combine = combine.rename(columns={0:'LastName', 1: 'FirstName'})\n",
    "combine['LastName'] = combine[\"LastName\"].str.len()\n",
    "combine['FirstName'] = combine[\"FirstName\"].str[1:]\n",
    "combine['FirstName'] = combine['FirstName'].str.len()\n",
    "combine = combine.drop(['Name', 'PassengerId'], axis=1)\n",
    "cat_features = ['Pclass', 'Sex', 'Cabin', 'Embarked', 'Ticket']\n",
    "\n",
    "lgbm_oof(combine, cat_features)"
   ]
  },
  {
   "cell_type": "markdown",
   "id": "careful-jerusalem",
   "metadata": {
    "papermill": {
     "duration": 0.082427,
     "end_time": "2021-04-25T02:34:19.601037",
     "exception": false,
     "start_time": "2021-04-25T02:34:19.518610",
     "status": "completed"
    },
    "tags": []
   },
   "source": [
    "### 4.3.7. Sum Length of first name and last name - Continuous\n",
    "* Create a new feature based by summing up the length of `first name` and `last name` and delete `Name`, `FirstName` and `LastName` features.\n",
    "* Summing up numbers of letters from `first name` and `last name` does not improve the accuracy of `0.78014`."
   ]
  },
  {
   "cell_type": "code",
   "execution_count": 20,
   "id": "raising-complaint",
   "metadata": {
    "_kg_hide-input": true,
    "execution": {
     "iopub.execute_input": "2021-04-25T02:34:19.802834Z",
     "iopub.status.busy": "2021-04-25T02:34:19.802130Z",
     "iopub.status.idle": "2021-04-25T02:34:26.484342Z",
     "shell.execute_reply": "2021-04-25T02:34:26.483782Z"
    },
    "papermill": {
     "duration": 6.797752,
     "end_time": "2021-04-25T02:34:26.484501",
     "exception": false,
     "start_time": "2021-04-25T02:34:19.686749",
     "status": "completed"
    },
    "tags": []
   },
   "outputs": [
    {
     "name": "stdout",
     "output_type": "stream",
     "text": [
      "Fold 0 Accuracy:  0.7809\n",
      "Fold 1 Accuracy:  0.78395\n",
      "Fold 2 Accuracy:  0.78065\n",
      "Fold 3 Accuracy:  0.77855\n",
      "Fold 4 Accuracy:  0.77665\n",
      "OOF Accuracy:  0.78014\n"
     ]
    }
   ],
   "source": [
    "combine = combine_dataset()\n",
    "\n",
    "combine['Cabin'] = combine[\"Cabin\"].str[0]\n",
    "combine['Ticket'] = combine['Ticket'].fillna('NA')\n",
    "combine['Cabin'] = combine['Cabin'].fillna('NA')\n",
    "combine['Embarked'] = combine['Embarked'].fillna('NA')\n",
    "combine['Fare'] = combine['Fare'].fillna(np.mean(combine['Fare']))\n",
    "combine['Age'] = combine['Age'].fillna(np.mean(combine['Age']))\n",
    "combine = pd.concat([combine, combine['Name'].str.split(',', expand=True)], axis=1)\n",
    "combine = combine.rename(columns={0:'LastName', 1: 'FirstName'})\n",
    "combine['LastName'] = combine[\"LastName\"].str.len()\n",
    "combine['FirstName'] = combine[\"FirstName\"].str[1:]\n",
    "combine['FirstName'] = combine['FirstName'].str.len()\n",
    "combine['Name'] = combine['FirstName'] + combine['LastName']\n",
    "combine = combine.drop(['FirstName', 'LastName', 'PassengerId'], axis=1)\n",
    "cat_features = ['Pclass', 'Sex', 'Cabin', 'Embarked', 'Ticket']\n",
    "\n",
    "lgbm_oof(combine, cat_features)"
   ]
  },
  {
   "cell_type": "markdown",
   "id": "compliant-workplace",
   "metadata": {
    "papermill": {
     "duration": 0.085915,
     "end_time": "2021-04-25T02:34:26.655599",
     "exception": false,
     "start_time": "2021-04-25T02:34:26.569684",
     "status": "completed"
    },
    "tags": []
   },
   "source": [
    "### 4.3.8. Combine first name and last Name - Continuous\n",
    "* Combine the length of `first name` and `last name` and combine them. In example: `Jack, Wilson` will be converted to `4` and `6` then both of it will be combined into `46` and be treated as continuous feature.\n",
    "* Combine the `first name` and `last name` (not summing up) features and convert it back to continuous features resulting to a decreased in accuracy to `0.77947`."
   ]
  },
  {
   "cell_type": "code",
   "execution_count": 21,
   "id": "voluntary-tournament",
   "metadata": {
    "_kg_hide-input": true,
    "execution": {
     "iopub.execute_input": "2021-04-25T02:34:26.859739Z",
     "iopub.status.busy": "2021-04-25T02:34:26.859015Z",
     "iopub.status.idle": "2021-04-25T02:34:34.306129Z",
     "shell.execute_reply": "2021-04-25T02:34:34.305459Z"
    },
    "papermill": {
     "duration": 7.564612,
     "end_time": "2021-04-25T02:34:34.306282",
     "exception": false,
     "start_time": "2021-04-25T02:34:26.741670",
     "status": "completed"
    },
    "tags": []
   },
   "outputs": [
    {
     "name": "stdout",
     "output_type": "stream",
     "text": [
      "Fold 0 Accuracy:  0.78205\n",
      "Fold 1 Accuracy:  0.7827\n",
      "Fold 2 Accuracy:  0.7796\n",
      "Fold 3 Accuracy:  0.77865\n",
      "Fold 4 Accuracy:  0.77435\n",
      "OOF Accuracy:  0.77947\n"
     ]
    }
   ],
   "source": [
    "combine = combine_dataset()\n",
    "\n",
    "combine['Cabin'] = combine[\"Cabin\"].str[0]\n",
    "combine['Ticket'] = combine['Ticket'].fillna('NA')\n",
    "combine['Cabin'] = combine['Cabin'].fillna('NA')\n",
    "combine['Embarked'] = combine['Embarked'].fillna('NA')\n",
    "combine['Fare'] = combine['Fare'].fillna(np.mean(combine['Fare']))\n",
    "combine['Age'] = combine['Age'].fillna(np.mean(combine['Age']))\n",
    "combine = pd.concat([combine, combine['Name'].str.split(',', expand=True)], axis=1)\n",
    "combine = combine.rename(columns={0:'LastName', 1: 'FirstName'})\n",
    "combine['LastName'] = combine[\"LastName\"].str.len()\n",
    "combine['FirstName'] = combine[\"FirstName\"].str[1:]\n",
    "combine['FirstName'] = combine['FirstName'].str.len()\n",
    "combine['Name'] = combine['LastName'].astype(str) + combine['FirstName'].astype(str)\n",
    "combine['Name'] = combine['Name'].astype(float)\n",
    "combine = combine.drop(['FirstName', 'LastName', 'PassengerId'], axis=1)\n",
    "cat_features = ['Pclass', 'Sex', 'Cabin', 'Embarked', 'Ticket']\n",
    "\n",
    "lgbm_oof(combine, cat_features)"
   ]
  },
  {
   "cell_type": "markdown",
   "id": "substantial-swimming",
   "metadata": {
    "papermill": {
     "duration": 0.086824,
     "end_time": "2021-04-25T02:34:34.480773",
     "exception": false,
     "start_time": "2021-04-25T02:34:34.393949",
     "status": "completed"
    },
    "tags": []
   },
   "source": [
    "[back to top](#table-of-contents)\n",
    "<a id=\"4.4\"></a>\n",
    "## 4.4. Ticket\n",
    "There are 2 methods that will be used for `Ticket`:\n",
    "* Extract the digits from the `Ticket` features and use the digits as a new features called `Ticket Number`.\n",
    "* Extract alphabet from the `Ticket` features and use the digits as a new features called `Ticket Code`.\n",
    "\n",
    "**Observations:**\n",
    "* Creating new feature from `Ticket Number` and put its type as continuous resulting the same accuracy as the baseline model.\n",
    "* Creating a new feature from `Ticket Code` and put it as categorical feature improve the accuracy.\n",
    "* Combining the `Ticket Number` as continuous and `Ticket Code` as categorical features resulting a more improved model accuracy than baseline model. **(4.4.4)**\n",
    "* Combining the `Ticket Number` and `Ticket Code` as categorical features improved model accuracy than baseline model but same as combining `Ticket Number` as continuous and `Ticket Code` as categorical features."
   ]
  },
  {
   "cell_type": "markdown",
   "id": "touched-placement",
   "metadata": {
    "papermill": {
     "duration": 0.086345,
     "end_time": "2021-04-25T02:34:34.655025",
     "exception": false,
     "start_time": "2021-04-25T02:34:34.568680",
     "status": "completed"
    },
    "tags": []
   },
   "source": [
    "### 4.4.1. Ticket Numbers - Continuous\n",
    "Extracting `Ticket` numbers, put it as continuous features and fill the missing value to `0` has a accuracy of `0.78061` which is the same as the baseline model."
   ]
  },
  {
   "cell_type": "code",
   "execution_count": 22,
   "id": "killing-turkish",
   "metadata": {
    "_kg_hide-input": true,
    "execution": {
     "iopub.execute_input": "2021-04-25T02:34:34.837976Z",
     "iopub.status.busy": "2021-04-25T02:34:34.837271Z",
     "iopub.status.idle": "2021-04-25T02:34:41.883604Z",
     "shell.execute_reply": "2021-04-25T02:34:41.883035Z"
    },
    "papermill": {
     "duration": 7.142643,
     "end_time": "2021-04-25T02:34:41.883753",
     "exception": false,
     "start_time": "2021-04-25T02:34:34.741110",
     "status": "completed"
    },
    "tags": []
   },
   "outputs": [
    {
     "name": "stdout",
     "output_type": "stream",
     "text": [
      "Fold 0 Accuracy:  0.78235\n",
      "Fold 1 Accuracy:  0.784\n",
      "Fold 2 Accuracy:  0.77845\n",
      "Fold 3 Accuracy:  0.7823\n",
      "Fold 4 Accuracy:  0.77595\n",
      "OOF Accuracy:  0.78061\n"
     ]
    }
   ],
   "source": [
    "combine = combine_dataset()\n",
    "\n",
    "combine['Cabin'] = combine[\"Cabin\"].str[0]\n",
    "combine['Ticket'] = combine['Ticket'].str.extract('(\\d+)')\n",
    "combine['Ticket'] = combine['Ticket'].astype(float)\n",
    "combine['Ticket'] = combine['Ticket'].fillna(0)\n",
    "combine['Cabin'] = combine['Cabin'].fillna('NA')\n",
    "combine['Embarked'] = combine['Embarked'].fillna('NA')\n",
    "combine['Fare'] = combine['Fare'].fillna(np.mean(combine['Fare']))\n",
    "combine['Age'] = combine['Age'].fillna(np.mean(combine['Age']))\n",
    "combine = combine.drop(['PassengerId'], axis=1)\n",
    "cat_features = ['Pclass', 'Sex', 'Cabin', 'Embarked', 'Name']\n",
    "\n",
    "lgbm_oof(combine, cat_features)"
   ]
  },
  {
   "cell_type": "markdown",
   "id": "serial-commitment",
   "metadata": {
    "papermill": {
     "duration": 0.089612,
     "end_time": "2021-04-25T02:34:42.062679",
     "exception": false,
     "start_time": "2021-04-25T02:34:41.973067",
     "status": "completed"
    },
    "tags": []
   },
   "source": [
    "### 4.4.2. Ticket Numbers - Categorical\n",
    "Extracting `Ticket` numbers, put it as categorical features and fill the missing value to `0` improve the accuracy to `0.77891`."
   ]
  },
  {
   "cell_type": "code",
   "execution_count": 23,
   "id": "little-effectiveness",
   "metadata": {
    "_kg_hide-input": true,
    "execution": {
     "iopub.execute_input": "2021-04-25T02:34:42.249462Z",
     "iopub.status.busy": "2021-04-25T02:34:42.248827Z",
     "iopub.status.idle": "2021-04-25T02:34:48.886299Z",
     "shell.execute_reply": "2021-04-25T02:34:48.885480Z"
    },
    "papermill": {
     "duration": 6.733691,
     "end_time": "2021-04-25T02:34:48.886522",
     "exception": false,
     "start_time": "2021-04-25T02:34:42.152831",
     "status": "completed"
    },
    "tags": []
   },
   "outputs": [
    {
     "name": "stdout",
     "output_type": "stream",
     "text": [
      "Fold 0 Accuracy:  0.78105\n",
      "Fold 1 Accuracy:  0.7823\n",
      "Fold 2 Accuracy:  0.77655\n",
      "Fold 3 Accuracy:  0.7785\n",
      "Fold 4 Accuracy:  0.77615\n",
      "OOF Accuracy:  0.77891\n"
     ]
    }
   ],
   "source": [
    "combine = combine_dataset()\n",
    "\n",
    "combine['Cabin'] = combine[\"Cabin\"].str[0]\n",
    "combine['Ticket'] = combine['Ticket'].str.extract('(\\d+)')\n",
    "combine['Ticket'] = combine['Ticket'].astype(float)\n",
    "combine['Ticket'] = combine['Ticket'].fillna(0)\n",
    "combine['Cabin'] = combine['Cabin'].fillna('NA')\n",
    "combine['Embarked'] = combine['Embarked'].fillna('NA')\n",
    "combine['Fare'] = combine['Fare'].fillna(np.mean(combine['Fare']))\n",
    "combine['Age'] = combine['Age'].fillna(np.mean(combine['Age']))\n",
    "combine = combine.drop(['PassengerId'], axis=1)\n",
    "cat_features = ['Pclass', 'Sex', 'Cabin', 'Embarked', 'Name', 'Ticket']\n",
    "\n",
    "lgbm_oof(combine, cat_features)"
   ]
  },
  {
   "cell_type": "markdown",
   "id": "intermediate-layout",
   "metadata": {
    "papermill": {
     "duration": 0.090495,
     "end_time": "2021-04-25T02:34:49.069134",
     "exception": false,
     "start_time": "2021-04-25T02:34:48.978639",
     "status": "completed"
    },
    "tags": []
   },
   "source": [
    "### 4.4.3. Ticket Code - Categorical\n",
    "Extracting `Ticket` non-numerical string, put it as categorical features and fill the missing value to `NA` improve the accuracy to `0.77886`."
   ]
  },
  {
   "cell_type": "code",
   "execution_count": 24,
   "id": "inner-leisure",
   "metadata": {
    "_kg_hide-input": true,
    "execution": {
     "iopub.execute_input": "2021-04-25T02:34:49.252265Z",
     "iopub.status.busy": "2021-04-25T02:34:49.251307Z",
     "iopub.status.idle": "2021-04-25T02:34:56.444398Z",
     "shell.execute_reply": "2021-04-25T02:34:56.443861Z"
    },
    "papermill": {
     "duration": 7.28564,
     "end_time": "2021-04-25T02:34:56.444563",
     "exception": false,
     "start_time": "2021-04-25T02:34:49.158923",
     "status": "completed"
    },
    "tags": []
   },
   "outputs": [
    {
     "name": "stderr",
     "output_type": "stream",
     "text": [
      "/opt/conda/lib/python3.7/site-packages/ipykernel_launcher.py:4: FutureWarning: The default value of regex will change from True to False in a future version.\n",
      "  after removing the cwd from sys.path.\n"
     ]
    },
    {
     "name": "stdout",
     "output_type": "stream",
     "text": [
      "Fold 0 Accuracy:  0.7816\n",
      "Fold 1 Accuracy:  0.78255\n",
      "Fold 2 Accuracy:  0.7788\n",
      "Fold 3 Accuracy:  0.7785\n",
      "Fold 4 Accuracy:  0.77285\n",
      "OOF Accuracy:  0.77886\n"
     ]
    }
   ],
   "source": [
    "combine = combine_dataset()\n",
    "\n",
    "combine['Cabin'] = combine[\"Cabin\"].str[0]\n",
    "combine['Ticket'] = combine['Ticket'].str.replace('[^\\w\\s]','')\n",
    "combine['Ticket'] = combine['Ticket'].str.replace(' ','')\n",
    "combine['Ticket'] = combine['Ticket'].fillna('NA')\n",
    "combine['Ticket'] = combine['Ticket'].replace('(\\d)', '', regex=True)\n",
    "combine['Cabin'] = combine['Cabin'].fillna('NA')\n",
    "combine['Embarked'] = combine['Embarked'].fillna('NA')\n",
    "combine['Fare'] = combine['Fare'].fillna(np.mean(combine['Fare']))\n",
    "combine['Age'] = combine['Age'].fillna(np.mean(combine['Age']))\n",
    "combine = combine.drop(['PassengerId'], axis=1)\n",
    "cat_features = ['Pclass', 'Sex', 'Cabin', 'Embarked', 'Name', 'Ticket']\n",
    "\n",
    "lgbm_oof(combine, cat_features)"
   ]
  },
  {
   "cell_type": "markdown",
   "id": "organized-peoples",
   "metadata": {
    "papermill": {
     "duration": 0.091969,
     "end_time": "2021-04-25T02:34:56.628911",
     "exception": false,
     "start_time": "2021-04-25T02:34:56.536942",
     "status": "completed"
    },
    "tags": []
   },
   "source": [
    "### 4.4.4. Ticket Code - Categorical & Ticket Number - Continuous\n",
    "Combining `Ticket Code` as categorical and `Ticket Number` as continuous improve the accuracy to `0.78194` which is better than individual accuracy and baseline model."
   ]
  },
  {
   "cell_type": "code",
   "execution_count": 25,
   "id": "difficult-theater",
   "metadata": {
    "_kg_hide-input": true,
    "execution": {
     "iopub.execute_input": "2021-04-25T02:34:56.823832Z",
     "iopub.status.busy": "2021-04-25T02:34:56.823176Z",
     "iopub.status.idle": "2021-04-25T02:35:05.124450Z",
     "shell.execute_reply": "2021-04-25T02:35:05.123526Z"
    },
    "papermill": {
     "duration": 8.402262,
     "end_time": "2021-04-25T02:35:05.124643",
     "exception": false,
     "start_time": "2021-04-25T02:34:56.722381",
     "status": "completed"
    },
    "tags": []
   },
   "outputs": [
    {
     "name": "stderr",
     "output_type": "stream",
     "text": [
      "/opt/conda/lib/python3.7/site-packages/ipykernel_launcher.py:4: FutureWarning: The default value of regex will change from True to False in a future version.\n",
      "  after removing the cwd from sys.path.\n"
     ]
    },
    {
     "name": "stdout",
     "output_type": "stream",
     "text": [
      "Fold 0 Accuracy:  0.78325\n",
      "Fold 1 Accuracy:  0.78565\n",
      "Fold 2 Accuracy:  0.78155\n",
      "Fold 3 Accuracy:  0.78125\n",
      "Fold 4 Accuracy:  0.778\n",
      "OOF Accuracy:  0.78194\n"
     ]
    }
   ],
   "source": [
    "combine = combine_dataset()\n",
    "\n",
    "combine['Cabin'] = combine[\"Cabin\"].str[0]\n",
    "combine['TicketCode'] = combine['Ticket'].str.replace('[^\\w\\s]','')\n",
    "combine['TicketCode'] = combine['TicketCode'].str.replace(' ','')\n",
    "combine['TicketCode'] = combine['TicketCode'].fillna('NA')\n",
    "combine['TicketCode'] = combine['TicketCode'].replace('(\\d)', '', regex=True)\n",
    "combine['TicketNumber'] = combine['Ticket'].str.extract('(\\d+)')\n",
    "combine['TicketNumber'] = combine['TicketNumber'].astype(float)\n",
    "combine['TicketNumber'] = combine['TicketNumber'].fillna(0)\n",
    "combine['Cabin'] = combine['Cabin'].fillna('NA')\n",
    "combine['Embarked'] = combine['Embarked'].fillna('NA')\n",
    "combine['Fare'] = combine['Fare'].fillna(np.mean(combine['Fare']))\n",
    "combine['Age'] = combine['Age'].fillna(np.mean(combine['Age']))\n",
    "combine = combine.drop(['Ticket', 'PassengerId'], axis=1)\n",
    "cat_features = ['Pclass', 'Sex', 'Cabin', 'Embarked', 'Name', 'TicketCode']\n",
    "\n",
    "lgbm_oof(combine, cat_features)"
   ]
  },
  {
   "cell_type": "markdown",
   "id": "varied-command",
   "metadata": {
    "papermill": {
     "duration": 0.093336,
     "end_time": "2021-04-25T02:35:05.312347",
     "exception": false,
     "start_time": "2021-04-25T02:35:05.219011",
     "status": "completed"
    },
    "tags": []
   },
   "source": [
    "### 4.4.5. Ticket Code - Categorical & Ticket Number - Categorical\n",
    "Combining `Ticket Code` and `Ticket Number` as categorical improve the accuracy to `0.78194` which is same as putting the `Ticket Number` as continuous."
   ]
  },
  {
   "cell_type": "code",
   "execution_count": 26,
   "id": "revolutionary-invite",
   "metadata": {
    "_kg_hide-input": true,
    "execution": {
     "iopub.execute_input": "2021-04-25T02:35:05.509462Z",
     "iopub.status.busy": "2021-04-25T02:35:05.508792Z",
     "iopub.status.idle": "2021-04-25T02:35:14.471131Z",
     "shell.execute_reply": "2021-04-25T02:35:14.470619Z"
    },
    "papermill": {
     "duration": 9.06549,
     "end_time": "2021-04-25T02:35:14.471284",
     "exception": false,
     "start_time": "2021-04-25T02:35:05.405794",
     "status": "completed"
    },
    "tags": []
   },
   "outputs": [
    {
     "name": "stderr",
     "output_type": "stream",
     "text": [
      "/opt/conda/lib/python3.7/site-packages/ipykernel_launcher.py:4: FutureWarning: The default value of regex will change from True to False in a future version.\n",
      "  after removing the cwd from sys.path.\n"
     ]
    },
    {
     "name": "stdout",
     "output_type": "stream",
     "text": [
      "Fold 0 Accuracy:  0.78325\n",
      "Fold 1 Accuracy:  0.78565\n",
      "Fold 2 Accuracy:  0.78155\n",
      "Fold 3 Accuracy:  0.78125\n",
      "Fold 4 Accuracy:  0.778\n",
      "OOF Accuracy:  0.78194\n"
     ]
    }
   ],
   "source": [
    "combine = combine_dataset()\n",
    "\n",
    "combine['Cabin'] = combine[\"Cabin\"].str[0]\n",
    "combine['TicketCode'] = combine['Ticket'].str.replace('[^\\w\\s]','')\n",
    "combine['TicketCode'] = combine['TicketCode'].str.replace(' ','')\n",
    "combine['TicketCode'] = combine['TicketCode'].fillna('NA')\n",
    "combine['TicketCode'] = combine['TicketCode'].replace('(\\d)', '', regex=True)\n",
    "combine['TicketNumber'] = combine['Ticket'].str.extract('(\\d+)')\n",
    "combine['TicketNumber'] = combine['TicketNumber'].astype(float)\n",
    "combine['TicketNumber'] = combine['TicketNumber'].fillna(0)\n",
    "combine['Cabin'] = combine['Cabin'].fillna('NA')\n",
    "combine['Embarked'] = combine['Embarked'].fillna('NA')\n",
    "combine['Fare'] = combine['Fare'].fillna(np.mean(combine['Fare']))\n",
    "combine['Age'] = combine['Age'].fillna(np.mean(combine['Age']))\n",
    "combine = combine.drop(['Ticket', 'PassengerId'], axis=1)\n",
    "cat_features = ['Pclass', 'Sex', 'Cabin', 'Embarked', 'Name', 'TicketCode', 'TicketNumber']\n",
    "\n",
    "lgbm_oof(combine, cat_features)"
   ]
  },
  {
   "cell_type": "markdown",
   "id": "august-majority",
   "metadata": {
    "papermill": {
     "duration": 0.096338,
     "end_time": "2021-04-25T02:35:14.662643",
     "exception": false,
     "start_time": "2021-04-25T02:35:14.566305",
     "status": "completed"
    },
    "tags": []
   },
   "source": [
    "[back to top](#table-of-contents)\n",
    "<a id=\"4.5\"></a>\n",
    "## 4.5. Age - binning\n",
    "This section will explore several methods for binning `Age` feature:\n",
    "* [Human Life Cycle](https://med.libretexts.org/Courses/American_Public_University/APUS%3A_An_Introduction_to_Nutrition_(Byerley)/Text/12%3A_Maternal_Infant_Childhood_and_Adolescent_Nutrition/12.02%3A_The_Human_Life_Cycle)\n",
    "* Fixed Interval\n",
    "\n",
    "**Observations:**\n",
    "* Binning `Age` has a signficant impact to the model.\n",
    "* Converting `Age` into categorical features by binning it, improve the model performance.\n",
    "* Keeping both the continuous and the categorical (binning) `Age` doesn't make the model performed well though it's still better than the baseline model.\n",
    "* Converting missing value to new categorical `NA` improve the model than using the mean value.\n",
    "* Binning to only 2 categories stil has a significant impact to the accuracy.\n",
    "* It seems that `Age` feature has created a noise to the model, removing it improve the baseline model quite significantly."
   ]
  },
  {
   "cell_type": "markdown",
   "id": "impressed-threat",
   "metadata": {
    "papermill": {
     "duration": 0.09494,
     "end_time": "2021-04-25T02:35:14.854897",
     "exception": false,
     "start_time": "2021-04-25T02:35:14.759957",
     "status": "completed"
    },
    "tags": []
   },
   "source": [
    "### 4.5.1. Human Life Cycle - Categorical\n",
    "Binning the age using human life cycle improve the accuracy into `0.7807`, a litte bit better than the baseline model"
   ]
  },
  {
   "cell_type": "code",
   "execution_count": 27,
   "id": "quantitative-memphis",
   "metadata": {
    "_kg_hide-input": true,
    "execution": {
     "iopub.execute_input": "2021-04-25T02:35:15.057405Z",
     "iopub.status.busy": "2021-04-25T02:35:15.056766Z",
     "iopub.status.idle": "2021-04-25T02:35:21.795792Z",
     "shell.execute_reply": "2021-04-25T02:35:21.794698Z"
    },
    "papermill": {
     "duration": 6.844234,
     "end_time": "2021-04-25T02:35:21.796032",
     "exception": false,
     "start_time": "2021-04-25T02:35:14.951798",
     "status": "completed"
    },
    "tags": []
   },
   "outputs": [
    {
     "name": "stdout",
     "output_type": "stream",
     "text": [
      "Fold 0 Accuracy:  0.7827\n",
      "Fold 1 Accuracy:  0.7848\n",
      "Fold 2 Accuracy:  0.7813\n",
      "Fold 3 Accuracy:  0.7798\n",
      "Fold 4 Accuracy:  0.7749\n",
      "OOF Accuracy:  0.7807\n"
     ]
    }
   ],
   "source": [
    "combine = combine_dataset()\n",
    "\n",
    "combine['Cabin'] = combine[\"Cabin\"].str[0]\n",
    "combine['Ticket'] = combine['Ticket'].fillna('NA')\n",
    "combine['Cabin'] = combine['Cabin'].fillna('NA')\n",
    "combine['Embarked'] = combine['Embarked'].fillna('NA')\n",
    "combine['Fare'] = combine['Fare'].fillna(np.mean(combine['Fare']))\n",
    "combine['Age'] = combine['Age'].fillna(np.mean(combine['Age']))\n",
    "combine['AgeBin']=pd.cut(combine['Age'],[-np.inf, 2, 4, 9, 14, 19, 31, 51, np.inf], right=False,\n",
    "                         labels = ['Infancy', 'Toddler', 'Childhood', 'Puberty', 'Older adolescence', \n",
    "                                   'Adulthood', 'Middle age', 'Senior years'])\n",
    "combine = combine.drop(['PassengerId'], axis=1)\n",
    "cat_features = ['Pclass', 'Sex', 'Cabin', 'Embarked', 'Name', 'Ticket', 'AgeBin']\n",
    "\n",
    "lgbm_oof(combine, cat_features)"
   ]
  },
  {
   "cell_type": "markdown",
   "id": "average-utilization",
   "metadata": {
    "papermill": {
     "duration": 0.096472,
     "end_time": "2021-04-25T02:35:21.989879",
     "exception": false,
     "start_time": "2021-04-25T02:35:21.893407",
     "status": "completed"
    },
    "tags": []
   },
   "source": [
    "### 4.5.2. Human Life Cycle and remove Age - Categorical\n",
    "Binning the age using human life cycle and remove the `Age` feature improve the accuracy into `0.78267`, quite a significant improvement compared to the baseline model. I seems the `Age` feature create a noise to the model as it rudandant to `AgeBin`."
   ]
  },
  {
   "cell_type": "code",
   "execution_count": 28,
   "id": "racial-share",
   "metadata": {
    "_kg_hide-input": true,
    "execution": {
     "iopub.execute_input": "2021-04-25T02:35:22.188277Z",
     "iopub.status.busy": "2021-04-25T02:35:22.187592Z",
     "iopub.status.idle": "2021-04-25T02:35:28.778341Z",
     "shell.execute_reply": "2021-04-25T02:35:28.778911Z"
    },
    "papermill": {
     "duration": 6.691478,
     "end_time": "2021-04-25T02:35:28.779082",
     "exception": false,
     "start_time": "2021-04-25T02:35:22.087604",
     "status": "completed"
    },
    "tags": []
   },
   "outputs": [
    {
     "name": "stdout",
     "output_type": "stream",
     "text": [
      "Fold 0 Accuracy:  0.7854\n",
      "Fold 1 Accuracy:  0.7841\n",
      "Fold 2 Accuracy:  0.78235\n",
      "Fold 3 Accuracy:  0.78205\n",
      "Fold 4 Accuracy:  0.77945\n",
      "OOF Accuracy:  0.78267\n"
     ]
    }
   ],
   "source": [
    "combine = combine_dataset()\n",
    "\n",
    "combine['Cabin'] = combine[\"Cabin\"].str[0]\n",
    "combine['Ticket'] = combine['Ticket'].fillna('NA')\n",
    "combine['Cabin'] = combine['Cabin'].fillna('NA')\n",
    "combine['Embarked'] = combine['Embarked'].fillna('NA')\n",
    "combine['Fare'] = combine['Fare'].fillna(np.mean(combine['Fare']))\n",
    "combine['Age'] = combine['Age'].fillna(np.mean(combine['Age']))\n",
    "combine['AgeBin'] = pd.cut(combine['Age'],[-np.inf, 2, 4, 9, 14, 19, 31, 51, np.inf], right=False,\n",
    "                         labels = ['Infancy', 'Toddler', 'Childhood', 'Puberty', 'Older adolescence', \n",
    "                                   'Adulthood', 'Middle age', 'Senior years']).astype(str)\n",
    "combine = combine.drop(['PassengerId', 'Age'], axis=1)\n",
    "cat_features = ['Pclass', 'Sex', 'Cabin', 'Embarked', 'Name', 'Ticket', 'AgeBin']\n",
    "\n",
    "lgbm_oof(combine, cat_features)"
   ]
  },
  {
   "cell_type": "markdown",
   "id": "headed-australian",
   "metadata": {
    "papermill": {
     "duration": 0.098744,
     "end_time": "2021-04-25T02:35:28.977734",
     "exception": false,
     "start_time": "2021-04-25T02:35:28.878990",
     "status": "completed"
    },
    "tags": []
   },
   "source": [
    "### 4.5.3. Human Life Cycle, remove Age and missing value - Categorical\n",
    "The different between this section compared to **4.5.2** is the way to treat `Age` missing value; in this section, missing value will be tag as `NA` instead of calculating the mean of the `Age`. There is an improvement in the accuracy compared to the baseline and previous section, the accuracy improved to `0.78282`."
   ]
  },
  {
   "cell_type": "code",
   "execution_count": 29,
   "id": "spatial-decision",
   "metadata": {
    "_kg_hide-input": true,
    "execution": {
     "iopub.execute_input": "2021-04-25T02:35:29.184578Z",
     "iopub.status.busy": "2021-04-25T02:35:29.183899Z",
     "iopub.status.idle": "2021-04-25T02:35:35.852442Z",
     "shell.execute_reply": "2021-04-25T02:35:35.853064Z"
    },
    "papermill": {
     "duration": 6.776143,
     "end_time": "2021-04-25T02:35:35.853241",
     "exception": false,
     "start_time": "2021-04-25T02:35:29.077098",
     "status": "completed"
    },
    "tags": []
   },
   "outputs": [
    {
     "name": "stdout",
     "output_type": "stream",
     "text": [
      "Fold 0 Accuracy:  0.78575\n",
      "Fold 1 Accuracy:  0.7846\n",
      "Fold 2 Accuracy:  0.7831\n",
      "Fold 3 Accuracy:  0.7819\n",
      "Fold 4 Accuracy:  0.77875\n",
      "OOF Accuracy:  0.78282\n"
     ]
    }
   ],
   "source": [
    "combine = combine_dataset()\n",
    "\n",
    "combine['Cabin'] = combine[\"Cabin\"].str[0]\n",
    "combine['Ticket'] = combine['Ticket'].fillna('NA')\n",
    "combine['Cabin'] = combine['Cabin'].fillna('NA')\n",
    "combine['Embarked'] = combine['Embarked'].fillna('NA')\n",
    "combine['Fare'] = combine['Fare'].fillna(np.mean(combine['Fare']))\n",
    "combine['AgeBin'] = pd.cut(combine['Age'],[-np.inf, 2, 4, 9, 14, 19, 31, 51, np.inf], right=False,\n",
    "                         labels = ['Infancy', 'Toddler', 'Childhood', 'Puberty', 'Older adolescence', \n",
    "                                   'Adulthood', 'Middle age', 'Senior years']).astype(str)\n",
    "combine = combine.drop(['PassengerId', 'Age'], axis=1)\n",
    "cat_features = ['Pclass', 'Sex', 'Cabin', 'Embarked', 'Name', 'Ticket', 'AgeBin']\n",
    "\n",
    "lgbm_oof(combine, cat_features)"
   ]
  },
  {
   "cell_type": "markdown",
   "id": "hungry-buying",
   "metadata": {
    "papermill": {
     "duration": 0.101669,
     "end_time": "2021-04-25T02:35:36.055810",
     "exception": false,
     "start_time": "2021-04-25T02:35:35.954141",
     "status": "completed"
    },
    "tags": []
   },
   "source": [
    "### 4.5.4. Fixed Interval 20 - Categorical\n",
    "Using an interval of 20 years, the model accuracy performed a little bit higher compared to the baseline model with accuracy of `0.78065` "
   ]
  },
  {
   "cell_type": "code",
   "execution_count": 30,
   "id": "pregnant-vanilla",
   "metadata": {
    "_kg_hide-input": true,
    "execution": {
     "iopub.execute_input": "2021-04-25T02:35:36.266068Z",
     "iopub.status.busy": "2021-04-25T02:35:36.265394Z",
     "iopub.status.idle": "2021-04-25T02:35:44.671087Z",
     "shell.execute_reply": "2021-04-25T02:35:44.671586Z"
    },
    "papermill": {
     "duration": 8.51473,
     "end_time": "2021-04-25T02:35:44.671777",
     "exception": false,
     "start_time": "2021-04-25T02:35:36.157047",
     "status": "completed"
    },
    "tags": []
   },
   "outputs": [
    {
     "name": "stdout",
     "output_type": "stream",
     "text": [
      "Fold 0 Accuracy:  0.7829\n",
      "Fold 1 Accuracy:  0.78435\n",
      "Fold 2 Accuracy:  0.7813\n",
      "Fold 3 Accuracy:  0.7798\n",
      "Fold 4 Accuracy:  0.7749\n",
      "OOF Accuracy:  0.78065\n"
     ]
    }
   ],
   "source": [
    "combine = combine_dataset()\n",
    "\n",
    "combine['Cabin'] = combine[\"Cabin\"].str[0]\n",
    "combine['Ticket'] = combine['Ticket'].fillna('NA')\n",
    "combine['Cabin'] = combine['Cabin'].fillna('NA')\n",
    "combine['Embarked'] = combine['Embarked'].fillna('NA')\n",
    "combine['Fare'] = combine['Fare'].fillna(np.mean(combine['Fare']))\n",
    "combine['Age'] = combine['Age'].fillna(np.mean(combine['Age']))\n",
    "combine['AgeBin']=pd.cut(combine['Age'],[-np.inf, 20, 40, 60, 80, np.inf], right=False)\n",
    "combine = combine.drop(['PassengerId'], axis=1)\n",
    "cat_features = ['Pclass', 'Sex', 'Cabin', 'Embarked', 'Name', 'Ticket', 'AgeBin']\n",
    "\n",
    "lgbm_oof(combine, cat_features)"
   ]
  },
  {
   "cell_type": "markdown",
   "id": "final-sunday",
   "metadata": {
    "papermill": {
     "duration": 0.109059,
     "end_time": "2021-04-25T02:35:44.906703",
     "exception": false,
     "start_time": "2021-04-25T02:35:44.797644",
     "status": "completed"
    },
    "tags": []
   },
   "source": [
    "### 4.5.5. Fixed Interval 20 and remove Age - Categorical\n",
    "Once again, removing continuous `Age` features improve the model significantly into `0.78264`."
   ]
  },
  {
   "cell_type": "code",
   "execution_count": 31,
   "id": "authentic-aberdeen",
   "metadata": {
    "_kg_hide-input": true,
    "execution": {
     "iopub.execute_input": "2021-04-25T02:35:45.122322Z",
     "iopub.status.busy": "2021-04-25T02:35:45.121623Z",
     "iopub.status.idle": "2021-04-25T02:35:52.329046Z",
     "shell.execute_reply": "2021-04-25T02:35:52.330240Z"
    },
    "papermill": {
     "duration": 7.320126,
     "end_time": "2021-04-25T02:35:52.330469",
     "exception": false,
     "start_time": "2021-04-25T02:35:45.010343",
     "status": "completed"
    },
    "tags": []
   },
   "outputs": [
    {
     "name": "stdout",
     "output_type": "stream",
     "text": [
      "Fold 0 Accuracy:  0.785\n",
      "Fold 1 Accuracy:  0.7849\n",
      "Fold 2 Accuracy:  0.78285\n",
      "Fold 3 Accuracy:  0.7808\n",
      "Fold 4 Accuracy:  0.77965\n",
      "OOF Accuracy:  0.78264\n"
     ]
    }
   ],
   "source": [
    "combine = combine_dataset()\n",
    "\n",
    "combine['Cabin'] = combine[\"Cabin\"].str[0]\n",
    "combine['Ticket'] = combine['Ticket'].fillna('NA')\n",
    "combine['Cabin'] = combine['Cabin'].fillna('NA')\n",
    "combine['Embarked'] = combine['Embarked'].fillna('NA')\n",
    "combine['Fare'] = combine['Fare'].fillna(np.mean(combine['Fare']))\n",
    "combine['Age'] = combine['Age'].fillna(np.mean(combine['Age']))\n",
    "combine['AgeBin']=pd.cut(combine['Age'],[-np.inf, 20, 40, 60, 80, np.inf], right=False)\n",
    "combine = combine.drop(['PassengerId', 'Age'], axis=1)\n",
    "cat_features = ['Pclass', 'Sex', 'Cabin', 'Embarked', 'Name', 'Ticket', 'AgeBin']\n",
    "\n",
    "lgbm_oof(combine, cat_features)"
   ]
  },
  {
   "cell_type": "markdown",
   "id": "stylish-wrist",
   "metadata": {
    "papermill": {
     "duration": 0.104337,
     "end_time": "2021-04-25T02:35:52.539978",
     "exception": false,
     "start_time": "2021-04-25T02:35:52.435641",
     "status": "completed"
    },
    "tags": []
   },
   "source": [
    "### 4.5.6. Fixed Interval 20, remove Age and missing value - Categorical\n",
    "The different between this section compared to **4.5.5** is the way to treat `Age` missing value; in this section, missing value will be tag as `NA` instead of calculating the mean of the `Age`. There is an improvement in the accuracy compared to the baseline and previous section, the accuracy improved to `0.78288`."
   ]
  },
  {
   "cell_type": "code",
   "execution_count": 32,
   "id": "wireless-london",
   "metadata": {
    "_kg_hide-input": true,
    "execution": {
     "iopub.execute_input": "2021-04-25T02:35:52.762557Z",
     "iopub.status.busy": "2021-04-25T02:35:52.761866Z",
     "iopub.status.idle": "2021-04-25T02:36:00.179913Z",
     "shell.execute_reply": "2021-04-25T02:36:00.179269Z"
    },
    "papermill": {
     "duration": 7.535465,
     "end_time": "2021-04-25T02:36:00.180068",
     "exception": false,
     "start_time": "2021-04-25T02:35:52.644603",
     "status": "completed"
    },
    "tags": []
   },
   "outputs": [
    {
     "name": "stdout",
     "output_type": "stream",
     "text": [
      "Fold 0 Accuracy:  0.78565\n",
      "Fold 1 Accuracy:  0.78515\n",
      "Fold 2 Accuracy:  0.78215\n",
      "Fold 3 Accuracy:  0.7822\n",
      "Fold 4 Accuracy:  0.77925\n",
      "OOF Accuracy:  0.78288\n"
     ]
    }
   ],
   "source": [
    "combine = combine_dataset()\n",
    "\n",
    "combine['Cabin'] = combine[\"Cabin\"].str[0]\n",
    "combine['Ticket'] = combine['Ticket'].fillna('NA')\n",
    "combine['Cabin'] = combine['Cabin'].fillna('NA')\n",
    "combine['Embarked'] = combine['Embarked'].fillna('NA')\n",
    "combine['Fare'] = combine['Fare'].fillna(np.mean(combine['Fare']))\n",
    "combine['AgeBin']=pd.cut(combine['Age'],[-np.inf, 20, 40, 60, 80, np.inf], right=False)\n",
    "combine = combine.drop(['PassengerId', 'Age'], axis=1)\n",
    "cat_features = ['Pclass', 'Sex', 'Cabin', 'Embarked', 'Name', 'Ticket', 'AgeBin']\n",
    "\n",
    "lgbm_oof(combine, cat_features)"
   ]
  },
  {
   "cell_type": "markdown",
   "id": "minus-fossil",
   "metadata": {
    "papermill": {
     "duration": 0.105881,
     "end_time": "2021-04-25T02:36:00.391721",
     "exception": false,
     "start_time": "2021-04-25T02:36:00.285840",
     "status": "completed"
    },
    "tags": []
   },
   "source": [
    "### 4.5.7. Fixed Interval 30, remove Age and missing value - Categorical\n",
    "Base on 2 previous try on binning `Age`, this section will directly remove the `Age` continuous and treat the missing value as categorical features. The accuracy using a fixed interval of 30 is `0.78253`."
   ]
  },
  {
   "cell_type": "code",
   "execution_count": 33,
   "id": "outstanding-barbados",
   "metadata": {
    "_kg_hide-input": true,
    "execution": {
     "iopub.execute_input": "2021-04-25T02:36:00.611332Z",
     "iopub.status.busy": "2021-04-25T02:36:00.610657Z",
     "iopub.status.idle": "2021-04-25T02:36:07.872150Z",
     "shell.execute_reply": "2021-04-25T02:36:07.871536Z"
    },
    "papermill": {
     "duration": 7.374794,
     "end_time": "2021-04-25T02:36:07.872282",
     "exception": false,
     "start_time": "2021-04-25T02:36:00.497488",
     "status": "completed"
    },
    "tags": []
   },
   "outputs": [
    {
     "name": "stdout",
     "output_type": "stream",
     "text": [
      "Fold 0 Accuracy:  0.7848\n",
      "Fold 1 Accuracy:  0.7857\n",
      "Fold 2 Accuracy:  0.78205\n",
      "Fold 3 Accuracy:  0.7813\n",
      "Fold 4 Accuracy:  0.7788\n",
      "OOF Accuracy:  0.78253\n"
     ]
    }
   ],
   "source": [
    "combine = combine_dataset()\n",
    "\n",
    "combine['Cabin'] = combine[\"Cabin\"].str[0]\n",
    "combine['Ticket'] = combine['Ticket'].fillna('NA')\n",
    "combine['Cabin'] = combine['Cabin'].fillna('NA')\n",
    "combine['Embarked'] = combine['Embarked'].fillna('NA')\n",
    "combine['Fare'] = combine['Fare'].fillna(np.mean(combine['Fare']))\n",
    "combine['AgeBin']=pd.cut(combine['Age'],[-np.inf, 30, 60, 90, np.inf], right=False)\n",
    "combine = combine.drop(['PassengerId', 'Age'], axis=1)\n",
    "cat_features = ['Pclass', 'Sex', 'Cabin', 'Embarked', 'Name', 'Ticket', 'AgeBin']\n",
    "\n",
    "lgbm_oof(combine, cat_features)"
   ]
  },
  {
   "cell_type": "markdown",
   "id": "included-scanning",
   "metadata": {
    "papermill": {
     "duration": 0.107752,
     "end_time": "2021-04-25T02:36:08.088209",
     "exception": false,
     "start_time": "2021-04-25T02:36:07.980457",
     "status": "completed"
    },
    "tags": []
   },
   "source": [
    "### 4.5.8. Fixed Interval 50, remove Age and missing value - Categorical\n",
    "Surprisingly enough, creating only 2 categories by binnin at age 50 resulted a high accuracy of `0.78256`."
   ]
  },
  {
   "cell_type": "code",
   "execution_count": 34,
   "id": "naughty-money",
   "metadata": {
    "_kg_hide-input": true,
    "execution": {
     "iopub.execute_input": "2021-04-25T02:36:08.309642Z",
     "iopub.status.busy": "2021-04-25T02:36:08.308921Z",
     "iopub.status.idle": "2021-04-25T02:36:16.426784Z",
     "shell.execute_reply": "2021-04-25T02:36:16.427286Z"
    },
    "papermill": {
     "duration": 8.232316,
     "end_time": "2021-04-25T02:36:16.427498",
     "exception": false,
     "start_time": "2021-04-25T02:36:08.195182",
     "status": "completed"
    },
    "tags": []
   },
   "outputs": [
    {
     "name": "stdout",
     "output_type": "stream",
     "text": [
      "Fold 0 Accuracy:  0.7858\n",
      "Fold 1 Accuracy:  0.78475\n",
      "Fold 2 Accuracy:  0.7824\n",
      "Fold 3 Accuracy:  0.782\n",
      "Fold 4 Accuracy:  0.77785\n",
      "OOF Accuracy:  0.78256\n"
     ]
    }
   ],
   "source": [
    "combine = combine_dataset()\n",
    "\n",
    "combine['Cabin'] = combine[\"Cabin\"].str[0]\n",
    "combine['Ticket'] = combine['Ticket'].fillna('NA')\n",
    "combine['Cabin'] = combine['Cabin'].fillna('NA')\n",
    "combine['Embarked'] = combine['Embarked'].fillna('NA')\n",
    "combine['Fare'] = combine['Fare'].fillna(np.mean(combine['Fare']))\n",
    "combine['AgeBin']=pd.cut(combine['Age'],[-np.inf, 50, np.inf], right=False)\n",
    "combine = combine.drop(['PassengerId', 'Age'], axis=1)\n",
    "cat_features = ['Pclass', 'Sex', 'Cabin', 'Embarked', 'Name', 'Ticket', 'AgeBin']\n",
    "\n",
    "lgbm_oof(combine, cat_features)"
   ]
  },
  {
   "cell_type": "markdown",
   "id": "reliable-bookmark",
   "metadata": {
    "papermill": {
     "duration": 0.109029,
     "end_time": "2021-04-25T02:36:16.645743",
     "exception": false,
     "start_time": "2021-04-25T02:36:16.536714",
     "status": "completed"
    },
    "tags": []
   },
   "source": [
    "### 4.5.9. Remove Age\n",
    "It's suspected that `Age` feature has created a noise to the model, splitting the features only into 2 category still create a high accuracy as can be seen in the previos section **(4.5.8)**. After removing `Age` feature without creating any binning, the accuracy is increased to `0.78275`."
   ]
  },
  {
   "cell_type": "code",
   "execution_count": 35,
   "id": "proprietary-lesson",
   "metadata": {
    "_kg_hide-input": true,
    "execution": {
     "iopub.execute_input": "2021-04-25T02:36:16.875081Z",
     "iopub.status.busy": "2021-04-25T02:36:16.874441Z",
     "iopub.status.idle": "2021-04-25T02:36:23.287834Z",
     "shell.execute_reply": "2021-04-25T02:36:23.288304Z"
    },
    "papermill": {
     "duration": 6.530274,
     "end_time": "2021-04-25T02:36:23.288522",
     "exception": false,
     "start_time": "2021-04-25T02:36:16.758248",
     "status": "completed"
    },
    "tags": []
   },
   "outputs": [
    {
     "name": "stdout",
     "output_type": "stream",
     "text": [
      "Fold 0 Accuracy:  0.78445\n",
      "Fold 1 Accuracy:  0.78585\n",
      "Fold 2 Accuracy:  0.78285\n",
      "Fold 3 Accuracy:  0.7814\n",
      "Fold 4 Accuracy:  0.7792\n",
      "OOF Accuracy:  0.78275\n"
     ]
    }
   ],
   "source": [
    "combine = combine_dataset()\n",
    "\n",
    "combine['Cabin'] = combine[\"Cabin\"].str[0]\n",
    "combine['Ticket'] = combine['Ticket'].fillna('NA')\n",
    "combine['Cabin'] = combine['Cabin'].fillna('NA')\n",
    "combine['Embarked'] = combine['Embarked'].fillna('NA')\n",
    "combine['Fare'] = combine['Fare'].fillna(np.mean(combine['Fare']))\n",
    "combine = combine.drop(['PassengerId', 'Age'], axis=1)\n",
    "cat_features = ['Pclass', 'Sex', 'Cabin', 'Embarked', 'Name', 'Ticket']\n",
    "\n",
    "lgbm_oof(combine, cat_features)"
   ]
  },
  {
   "cell_type": "markdown",
   "id": "indian-significance",
   "metadata": {
    "papermill": {
     "duration": 0.11094,
     "end_time": "2021-04-25T02:36:23.510457",
     "exception": false,
     "start_time": "2021-04-25T02:36:23.399517",
     "status": "completed"
    },
    "tags": []
   },
   "source": [
    "[back to top](#table-of-contents)\n",
    "<a id=\"4.6\"></a>\n",
    "## 4.6. Fare - binning\n",
    "This section will explore binning possibility for `Fare` feature using a fixed interval and subjectivity base on the `Fare` distribution.\n",
    "\n",
    "**Observations:**\n",
    "* It may be better to keep the `Fare` feature as a continuous features.\n",
    "* Using a fixed interval of 200 doesn't improve the accuracy.\n",
    "* Splitting `Fare` feature into 2 category still doesn't improve the accuracy.\n",
    "* Subjectively splitting the `Fare` feature also doesn't imporve the model.\n",
    "* Removing `Fare` has a little impact to the model accuracy on fixed interval 200 without `Fare` features and interval distribution without `Fare` feature.\n"
   ]
  },
  {
   "cell_type": "markdown",
   "id": "internal-kruger",
   "metadata": {
    "_kg_hide-input": true,
    "papermill": {
     "duration": 0.111833,
     "end_time": "2021-04-25T02:36:23.733076",
     "exception": false,
     "start_time": "2021-04-25T02:36:23.621243",
     "status": "completed"
    },
    "tags": []
   },
   "source": [
    "### 4.6.1. Fixed Interval 200 - Categorical\n",
    "Binning the `Fare` using a 200 fixed interval, decrease the accuracy to `0.77988`."
   ]
  },
  {
   "cell_type": "code",
   "execution_count": 36,
   "id": "matched-department",
   "metadata": {
    "_kg_hide-input": true,
    "execution": {
     "iopub.execute_input": "2021-04-25T02:36:23.964998Z",
     "iopub.status.busy": "2021-04-25T02:36:23.964329Z",
     "iopub.status.idle": "2021-04-25T02:36:31.256662Z",
     "shell.execute_reply": "2021-04-25T02:36:31.257275Z"
    },
    "papermill": {
     "duration": 7.412619,
     "end_time": "2021-04-25T02:36:31.257463",
     "exception": false,
     "start_time": "2021-04-25T02:36:23.844844",
     "status": "completed"
    },
    "tags": []
   },
   "outputs": [
    {
     "name": "stdout",
     "output_type": "stream",
     "text": [
      "Fold 0 Accuracy:  0.78145\n",
      "Fold 1 Accuracy:  0.78455\n",
      "Fold 2 Accuracy:  0.7806\n",
      "Fold 3 Accuracy:  0.77815\n",
      "Fold 4 Accuracy:  0.77465\n",
      "OOF Accuracy:  0.77988\n"
     ]
    }
   ],
   "source": [
    "combine = combine_dataset()\n",
    "\n",
    "combine['Cabin'] = combine[\"Cabin\"].str[0]\n",
    "combine['Ticket'] = combine['Ticket'].fillna('NA')\n",
    "combine['Cabin'] = combine['Cabin'].fillna('NA')\n",
    "combine['Embarked'] = combine['Embarked'].fillna('NA')\n",
    "combine['Age'] = combine['Age'].fillna(np.mean(combine['Age']))\n",
    "combine['Fare'] = combine['Fare'].fillna(np.mean(combine['Fare']))\n",
    "combine['FareBin']=pd.cut(combine['Fare'],[-np.inf, 200, 400, 600, 800, np.inf], right=False)\n",
    "combine = combine.drop(['PassengerId'], axis=1)\n",
    "cat_features = ['Pclass', 'Sex', 'Cabin', 'Embarked', 'Name', 'Ticket', 'FareBin']\n",
    "\n",
    "lgbm_oof(combine, cat_features)"
   ]
  },
  {
   "cell_type": "markdown",
   "id": "assumed-basic",
   "metadata": {
    "papermill": {
     "duration": 0.111296,
     "end_time": "2021-04-25T02:36:31.480285",
     "exception": false,
     "start_time": "2021-04-25T02:36:31.368989",
     "status": "completed"
    },
    "tags": []
   },
   "source": [
    "### 4.6.2. Fixed Interval 200 and remove Fare - Categorical\n",
    "Binning the fare using a 200 fixed interval and remove the Fare feature decrease the accuracy to `0.77989`."
   ]
  },
  {
   "cell_type": "code",
   "execution_count": 37,
   "id": "interested-strip",
   "metadata": {
    "_kg_hide-input": true,
    "execution": {
     "iopub.execute_input": "2021-04-25T02:36:31.711974Z",
     "iopub.status.busy": "2021-04-25T02:36:31.711299Z",
     "iopub.status.idle": "2021-04-25T02:36:38.781562Z",
     "shell.execute_reply": "2021-04-25T02:36:38.782156Z"
    },
    "papermill": {
     "duration": 7.190399,
     "end_time": "2021-04-25T02:36:38.782330",
     "exception": false,
     "start_time": "2021-04-25T02:36:31.591931",
     "status": "completed"
    },
    "tags": []
   },
   "outputs": [
    {
     "name": "stdout",
     "output_type": "stream",
     "text": [
      "Fold 0 Accuracy:  0.78195\n",
      "Fold 1 Accuracy:  0.78345\n",
      "Fold 2 Accuracy:  0.7779\n",
      "Fold 3 Accuracy:  0.78015\n",
      "Fold 4 Accuracy:  0.776\n",
      "OOF Accuracy:  0.77989\n"
     ]
    }
   ],
   "source": [
    "combine = combine_dataset()\n",
    "\n",
    "combine['Cabin'] = combine[\"Cabin\"].str[0]\n",
    "combine['Ticket'] = combine['Ticket'].fillna('NA')\n",
    "combine['Cabin'] = combine['Cabin'].fillna('NA')\n",
    "combine['Embarked'] = combine['Embarked'].fillna('NA')\n",
    "combine['Age'] = combine['Age'].fillna(np.mean(combine['Age']))\n",
    "combine['Fare'] = combine['Fare'].fillna(np.mean(combine['Fare']))\n",
    "combine['FareBin']=pd.cut(combine['Fare'],[-np.inf, 200, 400, 600, 800, np.inf], right=False)\n",
    "combine = combine.drop(['PassengerId', 'Fare'], axis=1)\n",
    "cat_features = ['Pclass', 'Sex', 'Cabin', 'Embarked', 'Name', 'Ticket', 'FareBin']\n",
    "\n",
    "lgbm_oof(combine, cat_features)"
   ]
  },
  {
   "cell_type": "markdown",
   "id": "medieval-calcium",
   "metadata": {
    "papermill": {
     "duration": 0.11396,
     "end_time": "2021-04-25T02:36:39.010703",
     "exception": false,
     "start_time": "2021-04-25T02:36:38.896743",
     "status": "completed"
    },
    "tags": []
   },
   "source": [
    "### 4.6.3. Fixed Interval 400 - Categorical\n",
    "Binning the fare using a 400 fixed interval which technically split the feature into to 2 category increased the accuracy to `0.78078`."
   ]
  },
  {
   "cell_type": "code",
   "execution_count": 38,
   "id": "incident-warehouse",
   "metadata": {
    "_kg_hide-input": true,
    "execution": {
     "iopub.execute_input": "2021-04-25T02:36:39.246532Z",
     "iopub.status.busy": "2021-04-25T02:36:39.245861Z",
     "iopub.status.idle": "2021-04-25T02:36:47.448862Z",
     "shell.execute_reply": "2021-04-25T02:36:47.448109Z"
    },
    "papermill": {
     "duration": 8.324784,
     "end_time": "2021-04-25T02:36:47.449056",
     "exception": false,
     "start_time": "2021-04-25T02:36:39.124272",
     "status": "completed"
    },
    "tags": []
   },
   "outputs": [
    {
     "name": "stdout",
     "output_type": "stream",
     "text": [
      "Fold 0 Accuracy:  0.78275\n",
      "Fold 1 Accuracy:  0.78475\n",
      "Fold 2 Accuracy:  0.7813\n",
      "Fold 3 Accuracy:  0.78035\n",
      "Fold 4 Accuracy:  0.77475\n",
      "OOF Accuracy:  0.78078\n"
     ]
    }
   ],
   "source": [
    "combine = combine_dataset()\n",
    "\n",
    "combine['Cabin'] = combine[\"Cabin\"].str[0]\n",
    "combine['Ticket'] = combine['Ticket'].fillna('NA')\n",
    "combine['Cabin'] = combine['Cabin'].fillna('NA')\n",
    "combine['Embarked'] = combine['Embarked'].fillna('NA')\n",
    "combine['Age'] = combine['Age'].fillna(np.mean(combine['Age']))\n",
    "combine['Fare'] = combine['Fare'].fillna(np.mean(combine['Fare']))\n",
    "combine['FareBin']=pd.cut(combine['Fare'],[-np.inf, 400, np.inf], right=False)\n",
    "combine = combine.drop(['PassengerId'], axis=1)\n",
    "cat_features = ['Pclass', 'Sex', 'Cabin', 'Embarked', 'Name', 'Ticket', 'FareBin']\n",
    "\n",
    "lgbm_oof(combine, cat_features)"
   ]
  },
  {
   "cell_type": "markdown",
   "id": "everyday-cookie",
   "metadata": {
    "papermill": {
     "duration": 0.11741,
     "end_time": "2021-04-25T02:36:47.685484",
     "exception": false,
     "start_time": "2021-04-25T02:36:47.568074",
     "status": "completed"
    },
    "tags": []
   },
   "source": [
    "### 4.6.4. Fixed Interval 400 and remove Fare - Categorical\n",
    "Binning the fare using a 400 fixed interval which technically split the feature into to 2 category decrease the accuracy to `0.77997`."
   ]
  },
  {
   "cell_type": "code",
   "execution_count": 39,
   "id": "graduate-pulse",
   "metadata": {
    "_kg_hide-input": true,
    "execution": {
     "iopub.execute_input": "2021-04-25T02:36:47.990211Z",
     "iopub.status.busy": "2021-04-25T02:36:47.989576Z",
     "iopub.status.idle": "2021-04-25T02:36:54.945292Z",
     "shell.execute_reply": "2021-04-25T02:36:54.945863Z"
    },
    "papermill": {
     "duration": 7.140997,
     "end_time": "2021-04-25T02:36:54.946041",
     "exception": false,
     "start_time": "2021-04-25T02:36:47.805044",
     "status": "completed"
    },
    "tags": []
   },
   "outputs": [
    {
     "name": "stdout",
     "output_type": "stream",
     "text": [
      "Fold 0 Accuracy:  0.7827\n",
      "Fold 1 Accuracy:  0.7838\n",
      "Fold 2 Accuracy:  0.77765\n",
      "Fold 3 Accuracy:  0.78095\n",
      "Fold 4 Accuracy:  0.77475\n",
      "OOF Accuracy:  0.77997\n"
     ]
    }
   ],
   "source": [
    "combine = combine_dataset()\n",
    "\n",
    "combine['Cabin'] = combine[\"Cabin\"].str[0]\n",
    "combine['Ticket'] = combine['Ticket'].fillna('NA')\n",
    "combine['Cabin'] = combine['Cabin'].fillna('NA')\n",
    "combine['Embarked'] = combine['Embarked'].fillna('NA')\n",
    "combine['Age'] = combine['Age'].fillna(np.mean(combine['Age']))\n",
    "combine['Fare'] = combine['Fare'].fillna(np.mean(combine['Fare']))\n",
    "combine['FareBin']=pd.cut(combine['Fare'],[-np.inf, 400, np.inf], right=False)\n",
    "combine = combine.drop(['PassengerId', 'Fare'], axis=1)\n",
    "cat_features = ['Pclass', 'Sex', 'Cabin', 'Embarked', 'Name', 'Ticket', 'FareBin']\n",
    "\n",
    "lgbm_oof(combine, cat_features)"
   ]
  },
  {
   "cell_type": "markdown",
   "id": "social-collaboration",
   "metadata": {
    "papermill": {
     "duration": 0.117545,
     "end_time": "2021-04-25T02:36:55.181376",
     "exception": false,
     "start_time": "2021-04-25T02:36:55.063831",
     "status": "completed"
    },
    "tags": []
   },
   "source": [
    "### 4.6.5. Interval Distribution - Categorical\n",
    "The split is based on subjectivity at `Fare` distribution which is separated on 50, 100 and 300. The accuracy result is `0.78002` which still below baseline model. "
   ]
  },
  {
   "cell_type": "code",
   "execution_count": 40,
   "id": "alleged-mixture",
   "metadata": {
    "_kg_hide-input": true,
    "execution": {
     "iopub.execute_input": "2021-04-25T02:36:55.427732Z",
     "iopub.status.busy": "2021-04-25T02:36:55.427080Z",
     "iopub.status.idle": "2021-04-25T02:37:02.674469Z",
     "shell.execute_reply": "2021-04-25T02:37:02.674958Z"
    },
    "papermill": {
     "duration": 7.375171,
     "end_time": "2021-04-25T02:37:02.675142",
     "exception": false,
     "start_time": "2021-04-25T02:36:55.299971",
     "status": "completed"
    },
    "tags": []
   },
   "outputs": [
    {
     "name": "stdout",
     "output_type": "stream",
     "text": [
      "Fold 0 Accuracy:  0.7814\n",
      "Fold 1 Accuracy:  0.78435\n",
      "Fold 2 Accuracy:  0.7805\n",
      "Fold 3 Accuracy:  0.77925\n",
      "Fold 4 Accuracy:  0.7746\n",
      "OOF Accuracy:  0.78002\n"
     ]
    }
   ],
   "source": [
    "combine = combine_dataset()\n",
    "\n",
    "combine['Cabin'] = combine[\"Cabin\"].str[0]\n",
    "combine['Ticket'] = combine['Ticket'].fillna('NA')\n",
    "combine['Cabin'] = combine['Cabin'].fillna('NA')\n",
    "combine['Embarked'] = combine['Embarked'].fillna('NA')\n",
    "combine['Age'] = combine['Age'].fillna(np.mean(combine['Age']))\n",
    "combine['Fare'] = combine['Fare'].fillna(np.mean(combine['Fare']))\n",
    "combine['FareBin']=pd.cut(combine['Fare'],[-np.inf, 50, 100, 300, np.inf], right=False)\n",
    "combine = combine.drop(['PassengerId'], axis=1)\n",
    "cat_features = ['Pclass', 'Sex', 'Cabin', 'Embarked', 'Name', 'Ticket', 'FareBin']\n",
    "\n",
    "lgbm_oof(combine, cat_features)"
   ]
  },
  {
   "cell_type": "markdown",
   "id": "extraordinary-penguin",
   "metadata": {
    "papermill": {
     "duration": 0.119135,
     "end_time": "2021-04-25T02:37:02.920369",
     "exception": false,
     "start_time": "2021-04-25T02:37:02.801234",
     "status": "completed"
    },
    "tags": []
   },
   "source": [
    "### 4.6.5. Interval Distribution and remove Fare - Categorical\n",
    "The split is based on subjectivity at `Fare` distribution which is separated on 50, 100 and 300 and also removing the `Fare` features. The accuracy result is `0.78017` which below baseline model. "
   ]
  },
  {
   "cell_type": "code",
   "execution_count": 41,
   "id": "synthetic-cylinder",
   "metadata": {
    "_kg_hide-input": true,
    "execution": {
     "iopub.execute_input": "2021-04-25T02:37:03.161722Z",
     "iopub.status.busy": "2021-04-25T02:37:03.160736Z",
     "iopub.status.idle": "2021-04-25T02:37:10.303196Z",
     "shell.execute_reply": "2021-04-25T02:37:10.302505Z"
    },
    "papermill": {
     "duration": 7.264575,
     "end_time": "2021-04-25T02:37:10.303341",
     "exception": false,
     "start_time": "2021-04-25T02:37:03.038766",
     "status": "completed"
    },
    "tags": []
   },
   "outputs": [
    {
     "name": "stdout",
     "output_type": "stream",
     "text": [
      "Fold 0 Accuracy:  0.78255\n",
      "Fold 1 Accuracy:  0.78455\n",
      "Fold 2 Accuracy:  0.7781\n",
      "Fold 3 Accuracy:  0.77965\n",
      "Fold 4 Accuracy:  0.776\n",
      "OOF Accuracy:  0.78017\n"
     ]
    }
   ],
   "source": [
    "combine = combine_dataset()\n",
    "\n",
    "combine['Cabin'] = combine[\"Cabin\"].str[0]\n",
    "combine['Ticket'] = combine['Ticket'].fillna('NA')\n",
    "combine['Cabin'] = combine['Cabin'].fillna('NA')\n",
    "combine['Embarked'] = combine['Embarked'].fillna('NA')\n",
    "combine['Age'] = combine['Age'].fillna(np.mean(combine['Age']))\n",
    "combine['Fare'] = combine['Fare'].fillna(np.mean(combine['Fare']))\n",
    "combine['FareBin']=pd.cut(combine['Fare'],[-np.inf, 50, 100, 300, np.inf], right=False)\n",
    "combine = combine.drop(['PassengerId', 'Fare'], axis=1)\n",
    "cat_features = ['Pclass', 'Sex', 'Cabin', 'Embarked', 'Name', 'Ticket', 'FareBin']\n",
    "\n",
    "lgbm_oof(combine, cat_features)"
   ]
  },
  {
   "cell_type": "markdown",
   "id": "ceramic-photographer",
   "metadata": {
    "papermill": {
     "duration": 0.120273,
     "end_time": "2021-04-25T02:37:10.543664",
     "exception": false,
     "start_time": "2021-04-25T02:37:10.423391",
     "status": "completed"
    },
    "tags": []
   },
   "source": [
    "[back to top](#table-of-contents)\n",
    "<a id=\"5\"></a>\n",
    "# 5. Baseline Model Post Features Engineering\n",
    "This section will evaluate the performance of `Catboost`, `XGBoost` and `LGBM` using features engineering that has been evaluated before using `LGBM`:\n",
    "* Convert `first name` and `last name` into its respective length from `Name` feature and remove `Name` feature.\n",
    "* Create new feature `TicketCode` and `TicketNumber` from `Ticket` feature and classify `TicketCode` as categorical and `TicketNumber` as continuous.\n",
    "* Create a new feature `AgeBin` which come from 20 interval of `Age` and remove `Age` feature.\n",
    "\n",
    "**Observations:** \n",
    "* Using new/modified features improves the accuracy on all models.\n",
    "* `Catboost` is still has the highest accuracy of `0.78596` improve from `0.78428`.\n",
    "* `XGBoost` performance is getting worse compared to baseline model a decreased from `0.78201` to `0.78109`. This may due to categorical feature treatement in `XGBoost`.\n",
    "* `LGBM` accuracy performance improves to `0.78418` from `0.78061`. It has the highest improvement as `LGBM` is used as baseline when doing the feature engineering.\n",
    "* Accuracy performance on Hard Voting ensemble using all models is worse than only use 2 models of `Catboost` and `LGBM`.\n",
    "* Even after after taking out the `XGBoost` from Hard Voting ensemble, it is still lower than `Catboost` performance but higher than `LGBM`."
   ]
  },
  {
   "cell_type": "code",
   "execution_count": 42,
   "id": "referenced-rolling",
   "metadata": {
    "_kg_hide-input": true,
    "execution": {
     "iopub.execute_input": "2021-04-25T02:37:10.800905Z",
     "iopub.status.busy": "2021-04-25T02:37:10.800103Z",
     "iopub.status.idle": "2021-04-25T02:37:15.327366Z",
     "shell.execute_reply": "2021-04-25T02:37:15.326788Z"
    },
    "papermill": {
     "duration": 4.663389,
     "end_time": "2021-04-25T02:37:15.327535",
     "exception": false,
     "start_time": "2021-04-25T02:37:10.664146",
     "status": "completed"
    },
    "tags": []
   },
   "outputs": [
    {
     "name": "stderr",
     "output_type": "stream",
     "text": [
      "/opt/conda/lib/python3.7/site-packages/ipykernel_launcher.py:8: FutureWarning: The default value of regex will change from True to False in a future version.\n",
      "  \n"
     ]
    }
   ],
   "source": [
    "combine = combine_dataset()\n",
    "\n",
    "combine = pd.concat([combine, combine['Name'].str.split(',', expand=True)], axis=1)\n",
    "combine = combine.rename(columns={0:'LastName', 1: 'FirstName'})\n",
    "combine['LastName'] = combine[\"LastName\"].str.len()\n",
    "combine['FirstName'] = combine[\"FirstName\"].str[1:]\n",
    "combine['FirstName'] = combine['FirstName'].str.len()\n",
    "combine['TicketCode'] = combine['Ticket'].str.replace('[^\\w\\s]','')\n",
    "combine['TicketCode'] = combine['TicketCode'].str.replace(' ','')\n",
    "combine['TicketCode'] = combine['TicketCode'].fillna('NA')\n",
    "combine['TicketCode'] = combine['TicketCode'].replace('(\\d)', '', regex=True)\n",
    "combine['TicketNumber'] = combine['Ticket'].str.extract('(\\d+)')\n",
    "combine['TicketNumber'] = combine['TicketNumber'].astype(float)\n",
    "combine['TicketNumber'] = combine['TicketNumber'].fillna(0)\n",
    "combine['AgeBin']=pd.cut(combine['Age'],[-np.inf, 20, 40, 60, 80, np.inf], right=False)\n",
    "combine['Cabin'] = combine[\"Cabin\"].str[0]\n",
    "combine['Cabin'] = combine['Cabin'].fillna('NA')\n",
    "combine['Embarked'] = combine['Embarked'].fillna('NA')\n",
    "combine['Fare'] = combine['Fare'].fillna(np.mean(combine['Fare']))\n",
    "\n",
    "combine = combine.drop(['Name', 'Ticket', 'Age', 'PassengerId'], axis=1)\n",
    "cat_features = ['Pclass', 'Sex', 'Cabin', 'Embarked', 'TicketCode', 'AgeBin']\n",
    "\n",
    "cont_features = [col for col in combine.columns if col not in cat_features + ['Survived']]\n",
    "features = cat_features + cont_features\n",
    "\n",
    "label_encoder = LabelEncoder()\n",
    "for col in cat_features:\n",
    "    combine[col] = label_encoder.fit_transform(combine[col])\n",
    "train = combine.iloc[:100000, :]\n",
    "test = combine.iloc[100000:, :]\n",
    "test = test.drop('Survived', axis=1)\n",
    "\n",
    "cat_features_index = []\n",
    "for col in cat_features:\n",
    "    cat_features_index.append(train.columns.get_loc(col))"
   ]
  },
  {
   "cell_type": "markdown",
   "id": "logical-heavy",
   "metadata": {
    "papermill": {
     "duration": 0.120767,
     "end_time": "2021-04-25T02:37:15.569295",
     "exception": false,
     "start_time": "2021-04-25T02:37:15.448528",
     "status": "completed"
    },
    "tags": []
   },
   "source": [
    "[back to top](#table-of-contents)\n",
    "<a id=\"5.1\"></a>\n",
    "## 5.1. Catboost\n",
    "`Catboost` has the highest `accuracy` score of `0.78596` compared to others model even higher than hard voting ensemble."
   ]
  },
  {
   "cell_type": "code",
   "execution_count": 43,
   "id": "vital-benchmark",
   "metadata": {
    "_kg_hide-input": true,
    "execution": {
     "iopub.execute_input": "2021-04-25T02:37:15.823916Z",
     "iopub.status.busy": "2021-04-25T02:37:15.822270Z",
     "iopub.status.idle": "2021-04-25T02:42:58.347410Z",
     "shell.execute_reply": "2021-04-25T02:42:58.348190Z"
    },
    "papermill": {
     "duration": 342.658398,
     "end_time": "2021-04-25T02:42:58.348454",
     "exception": false,
     "start_time": "2021-04-25T02:37:15.690056",
     "status": "completed"
    },
    "tags": []
   },
   "outputs": [
    {
     "name": "stdout",
     "output_type": "stream",
     "text": [
      "Fold 0 Accuracy:  0.7881\n",
      "Fold 1 Accuracy:  0.7888\n",
      "Fold 2 Accuracy:  0.78435\n",
      "Fold 3 Accuracy:  0.78595\n",
      "Fold 4 Accuracy:  0.7826\n",
      "OOF Accuracy:  0.78596\n"
     ]
    }
   ],
   "source": [
    "train_oof = np.zeros((100000,))\n",
    "skf = StratifiedKFold(n_splits=folds, shuffle=True, random_state=42)\n",
    "for fold, (train_idx, valid_idx) in enumerate(skf.split(train[features], train['Survived'])):\n",
    "    X_train, X_valid = train.iloc[train_idx], train.iloc[valid_idx]\n",
    "    y_train = X_train['Survived']\n",
    "    y_valid = X_valid['Survived']\n",
    "    X_train = X_train.drop('Survived', axis=1)\n",
    "    X_valid = X_valid.drop('Survived', axis=1)\n",
    "\n",
    "    model = CatBoostClassifier(\n",
    "        verbose=0,\n",
    "        eval_metric=\"Accuracy\",\n",
    "        random_state=42,\n",
    "        cat_features=cat_features\n",
    "    )\n",
    "\n",
    "    model =  model.fit(X_train, y_train, eval_set=[(X_valid, y_valid)])\n",
    "    temp_oof = model.predict(X_valid)\n",
    "    train_oof[valid_idx] = temp_oof\n",
    "    print(f'Fold {fold} Accuracy: ', accuracy_score(y_valid, temp_oof))\n",
    "    \n",
    "print(f'OOF Accuracy: ', accuracy_score(train['Survived'], train_oof))\n",
    "model_results['CatBoost'] = train_oof"
   ]
  },
  {
   "cell_type": "markdown",
   "id": "swiss-disability",
   "metadata": {
    "papermill": {
     "duration": 0.12165,
     "end_time": "2021-04-25T02:42:58.593259",
     "exception": false,
     "start_time": "2021-04-25T02:42:58.471609",
     "status": "completed"
    },
    "tags": []
   },
   "source": [
    "[back to top](#table-of-contents)\n",
    "<a id=\"5.2\"></a>\n",
    "## 5.2. XGBoost\n",
    "`XGBoost` has the second best accuracy with `0.78109` worse than baseline model without feature engineering."
   ]
  },
  {
   "cell_type": "code",
   "execution_count": 44,
   "id": "reported-occasions",
   "metadata": {
    "_kg_hide-input": true,
    "execution": {
     "iopub.execute_input": "2021-04-25T02:42:58.850788Z",
     "iopub.status.busy": "2021-04-25T02:42:58.846685Z",
     "iopub.status.idle": "2021-04-25T02:43:22.798836Z",
     "shell.execute_reply": "2021-04-25T02:43:22.798176Z"
    },
    "papermill": {
     "duration": 24.083631,
     "end_time": "2021-04-25T02:43:22.798976",
     "exception": false,
     "start_time": "2021-04-25T02:42:58.715345",
     "status": "completed"
    },
    "tags": []
   },
   "outputs": [
    {
     "name": "stdout",
     "output_type": "stream",
     "text": [
      "Fold 0 Accuracy:  0.7841\n",
      "Fold 1 Accuracy:  0.7837\n",
      "Fold 2 Accuracy:  0.78005\n",
      "Fold 3 Accuracy:  0.7794\n",
      "Fold 4 Accuracy:  0.7782\n",
      "OOF Accuracy:  0.78109\n"
     ]
    }
   ],
   "source": [
    "train_oof = np.zeros((100000,))\n",
    "skf = StratifiedKFold(n_splits=folds, shuffle=True, random_state=42)\n",
    "for fold, (train_idx, valid_idx) in enumerate(skf.split(train[features], train['Survived'])):\n",
    "    X_train, X_valid = train.iloc[train_idx], train.iloc[valid_idx]\n",
    "    y_train = X_train['Survived']\n",
    "    y_valid = X_valid['Survived']\n",
    "    X_train = X_train.drop('Survived', axis=1)\n",
    "    X_valid = X_valid.drop('Survived', axis=1)\n",
    "\n",
    "    model = XGBClassifier(\n",
    "        random_state=42,\n",
    "        use_label_encoder=False,\n",
    "        eval_metric=\"logloss\"\n",
    "    )\n",
    "\n",
    "    model =  model.fit(X_train, y_train, eval_set=[(X_valid, y_valid)], verbose=0)\n",
    "    temp_oof = model.predict(X_valid)\n",
    "    train_oof[valid_idx] = temp_oof\n",
    "    print(f'Fold {fold} Accuracy: ', accuracy_score(y_valid, temp_oof))\n",
    "    \n",
    "print(f'OOF Accuracy: ', accuracy_score(train['Survived'], train_oof))\n",
    "model_results['XGBoost'] = train_oof"
   ]
  },
  {
   "cell_type": "markdown",
   "id": "organic-memory",
   "metadata": {
    "papermill": {
     "duration": 0.123846,
     "end_time": "2021-04-25T02:43:23.047598",
     "exception": false,
     "start_time": "2021-04-25T02:43:22.923752",
     "status": "completed"
    },
    "tags": []
   },
   "source": [
    "[back to top](#table-of-contents)\n",
    "<a id=\"5.3\"></a>\n",
    "## 5.3. LGBM\n",
    "`LGBM` has an accuracy of `0.78418` higher than `XGBoost` accuracy post feature engineering."
   ]
  },
  {
   "cell_type": "code",
   "execution_count": 45,
   "id": "considerable-circular",
   "metadata": {
    "_kg_hide-input": true,
    "execution": {
     "iopub.execute_input": "2021-04-25T02:43:23.309668Z",
     "iopub.status.busy": "2021-04-25T02:43:23.305165Z",
     "iopub.status.idle": "2021-04-25T02:43:27.633803Z",
     "shell.execute_reply": "2021-04-25T02:43:27.633125Z"
    },
    "papermill": {
     "duration": 4.462183,
     "end_time": "2021-04-25T02:43:27.633947",
     "exception": false,
     "start_time": "2021-04-25T02:43:23.171764",
     "status": "completed"
    },
    "tags": []
   },
   "outputs": [
    {
     "name": "stdout",
     "output_type": "stream",
     "text": [
      "Fold 0 Accuracy:  0.787\n",
      "Fold 1 Accuracy:  0.78615\n",
      "Fold 2 Accuracy:  0.7836\n",
      "Fold 3 Accuracy:  0.78365\n",
      "Fold 4 Accuracy:  0.7805\n",
      "OOF Accuracy:  0.78418\n"
     ]
    }
   ],
   "source": [
    "cat_features_index = []\n",
    "for col in cat_features:\n",
    "    cat_features_index.append(train.columns.get_loc(col))\n",
    "\n",
    "train_oof = np.zeros((100000,))\n",
    "skf = StratifiedKFold(n_splits=folds, shuffle=True, random_state=42)\n",
    "for fold, (train_idx, valid_idx) in enumerate(skf.split(train[features], train['Survived'])):\n",
    "    X_train, X_valid = train.iloc[train_idx], train.iloc[valid_idx]\n",
    "    y_train = X_train['Survived']\n",
    "    y_valid = X_valid['Survived']\n",
    "    X_train = X_train.drop('Survived', axis=1)\n",
    "    X_valid = X_valid.drop('Survived', axis=1)\n",
    "\n",
    "    model = LGBMClassifier(\n",
    "        verbose=0,\n",
    "        metric=\"Accuracy\",\n",
    "        random_state=42,\n",
    "        cat_feature=cat_features_index,\n",
    "        force_row_wise=True\n",
    "    )\n",
    "\n",
    "    model =  model.fit(X_train, y_train, eval_set=[(X_valid, y_valid)], verbose=0)\n",
    "    temp_oof = model.predict(X_valid)\n",
    "    train_oof[valid_idx] = temp_oof\n",
    "    print(f'Fold {fold} Accuracy: ', accuracy_score(y_valid, temp_oof))\n",
    "    \n",
    "print(f'OOF Accuracy: ', accuracy_score(train['Survived'], train_oof))\n",
    "model_results['LGBM'] = train_oof"
   ]
  },
  {
   "cell_type": "markdown",
   "id": "executive-sample",
   "metadata": {
    "_kg_hide-input": false,
    "papermill": {
     "duration": 0.125256,
     "end_time": "2021-04-25T02:43:27.886062",
     "exception": false,
     "start_time": "2021-04-25T02:43:27.760806",
     "status": "completed"
    },
    "tags": []
   },
   "source": [
    "[back to top](#table-of-contents)\n",
    "<a id=\"5.4\"></a>\n",
    "## 5.4. Hard voting\n",
    "**Observations:**\n",
    "* `Hard Voting` has an accuracy of `0.78326` higher than `XGBoost`.\n",
    "* Dropping `XGBoost` from the ensemble improve the model accuracy to `0.78541` but still lower than `Catboost`.\n",
    "\n",
    "### 5.4.1. Hard voting using all models"
   ]
  },
  {
   "cell_type": "code",
   "execution_count": 46,
   "id": "assisted-butterfly",
   "metadata": {
    "_kg_hide-input": true,
    "execution": {
     "iopub.execute_input": "2021-04-25T02:43:28.149233Z",
     "iopub.status.busy": "2021-04-25T02:43:28.148269Z",
     "iopub.status.idle": "2021-04-25T02:43:28.168483Z",
     "shell.execute_reply": "2021-04-25T02:43:28.167848Z"
    },
    "papermill": {
     "duration": 0.15222,
     "end_time": "2021-04-25T02:43:28.168619",
     "exception": false,
     "start_time": "2021-04-25T02:43:28.016399",
     "status": "completed"
    },
    "tags": []
   },
   "outputs": [
    {
     "name": "stdout",
     "output_type": "stream",
     "text": [
      "OOF Accuracy:  0.78326\n"
     ]
    }
   ],
   "source": [
    "train_oof = np.zeros((100000,))\n",
    "train_oof = np.where(model_results.sum(axis=1) > 2, 1, 0)\n",
    "print(f'OOF Accuracy: ', accuracy_score(train['Survived'], train_oof))"
   ]
  },
  {
   "cell_type": "markdown",
   "id": "attempted-focus",
   "metadata": {
    "papermill": {
     "duration": 0.125905,
     "end_time": "2021-04-25T02:43:28.420690",
     "exception": false,
     "start_time": "2021-04-25T02:43:28.294785",
     "status": "completed"
    },
    "tags": []
   },
   "source": [
    "### 5.4.2. Hard voting without XGBoost"
   ]
  },
  {
   "cell_type": "code",
   "execution_count": 47,
   "id": "latter-annual",
   "metadata": {
    "_kg_hide-input": true,
    "execution": {
     "iopub.execute_input": "2021-04-25T02:43:28.680542Z",
     "iopub.status.busy": "2021-04-25T02:43:28.679862Z",
     "iopub.status.idle": "2021-04-25T02:43:28.702818Z",
     "shell.execute_reply": "2021-04-25T02:43:28.701748Z"
    },
    "papermill": {
     "duration": 0.156083,
     "end_time": "2021-04-25T02:43:28.702995",
     "exception": false,
     "start_time": "2021-04-25T02:43:28.546912",
     "status": "completed"
    },
    "tags": []
   },
   "outputs": [
    {
     "name": "stdout",
     "output_type": "stream",
     "text": [
      "OOF Accuracy:  0.78534\n"
     ]
    }
   ],
   "source": [
    "model_results = model_results.drop('XGBoost', axis=1)\n",
    "train_oof = np.zeros((100000,))\n",
    "train_oof = np.where(model_results.sum(axis=1) > 1, 1, 0)\n",
    "print(f'OOF Accuracy: ', accuracy_score(train['Survived'], train_oof))"
   ]
  },
  {
   "cell_type": "markdown",
   "id": "unlikely-vancouver",
   "metadata": {
    "papermill": {
     "duration": 0.12805,
     "end_time": "2021-04-25T02:43:28.959154",
     "exception": false,
     "start_time": "2021-04-25T02:43:28.831104",
     "status": "completed"
    },
    "tags": []
   },
   "source": [
    "[back to top](#table-of-contents)\n",
    "<a id=\"6\"></a>\n",
    "# 6. Pseudo-Labeling\n",
    "\n",
    "**Pseudo-Labeling** is a technique of using unlabeled data (in this case the test dataset) combine with labeled data (in this case train dataset) to create a better model. There are 4 steps on performing pseudo-labeling:\n",
    "1. Train model on train data and make a prediction for test data.\n",
    "2. Use predictions from stage 1 as `pseudo` labels for test data. \n",
    "3. Combined pseudolabeled dataset with train dataset.\n",
    "4. Fit a new model on this combined dataset.\n",
    "\n",
    "**Notes:** Taken from [Pseudolabelling - Tips and tricks](https://www.kaggle.com/c/tabular-playground-series-apr-2021/discussion/231738) by [Alexander Ryzhkov](https://www.kaggle.com/alexryzhkov)\n",
    "\n",
    "This section also mainly inspired by these notebooks:\n",
    "* Main code is taken from [TPS-Apr2021 Catboost Run Pseudo label](https://www.kaggle.com/gomes555/tps-apr2021-catboost-run-pseudo-label) by [Fellipe Gomes](https://www.kaggle.com/gomes555)\n",
    "* First pseudo label result are hard voting from these notebooks:\n",
    "    * [TPS Apr 2021 single DecisionTreeModel](https://www.kaggle.com/hiro5299834/tps-apr-2021-single-decisiontreemodel) by [BIZEN](https://www.kaggle.com/hiro5299834)\n",
    "    * [TPS-APR-2021-LGBM](https://www.kaggle.com/svyatoslavsokolov/tps-apr-2021-lgbm) by [Svyatoslav Sokolov](https://www.kaggle.com/svyatoslavsokolov)\n",
    "    * [Catboost](https://www.kaggle.com/belov38/catboost-lb) by [Ilya Belov](https://www.kaggle.com/belov38)\n",
    "\n",
    "Please check out their great notebooks!\n",
    "\n",
    "[back to top](#table-of-contents)\n",
    "<a id=\"6.1\"></a>\n",
    "## 6.1. Preparation\n",
    "This section covered `step 1 to 3`. Prediction for unlabeled data (test dataset) is taken from [TPS Apr 2021 single DecisionTreeModel](https://www.kaggle.com/hiro5299834/tps-apr-2021-single-decisiontreemodel) by [BIZEN](https://www.kaggle.com/hiro5299834)"
   ]
  },
  {
   "cell_type": "code",
   "execution_count": 48,
   "id": "circular-sister",
   "metadata": {
    "execution": {
     "iopub.execute_input": "2021-04-25T02:43:29.221620Z",
     "iopub.status.busy": "2021-04-25T02:43:29.220810Z",
     "iopub.status.idle": "2021-04-25T02:43:29.887000Z",
     "shell.execute_reply": "2021-04-25T02:43:29.886366Z"
    },
    "papermill": {
     "duration": 0.800387,
     "end_time": "2021-04-25T02:43:29.887141",
     "exception": false,
     "start_time": "2021-04-25T02:43:29.086754",
     "status": "completed"
    },
    "tags": []
   },
   "outputs": [],
   "source": [
    "train = pd.read_csv('../input/tabular-playground-series-apr-2021/train.csv')\n",
    "test = pd.read_csv('../input/tabular-playground-series-apr-2021/test.csv')\n",
    "submission = pd.read_csv('../input/tabular-playground-series-apr-2021/sample_submission.csv')\n",
    "decision_tree = pd.read_csv('../input/tps-apr-2021-single-decisiontreemodel/submission.csv', index_col=0)\n",
    "lgbm = pd.read_csv('../input/tps-apr-2021-lgbm/submission.csv', index_col=0)\n",
    "catboost = pd.read_csv('../input/catboost-lb/result.csv', index_col=0)\n",
    "pseudo_label = pd.DataFrame()\n",
    "pseudo_label = pd.concat([decision_tree, lgbm, catboost], axis=1)\n",
    "pseudo_label['final'] = np.where(pseudo_label.sum(axis=1) > 1, 1, 0)\n",
    "FOLDS = 5\n",
    "test['Survived'] = [x for x in pseudo_label.final]\n",
    "combine = pd.concat([train, test], axis=0)"
   ]
  },
  {
   "cell_type": "markdown",
   "id": "weekly-jaguar",
   "metadata": {
    "papermill": {
     "duration": 0.127327,
     "end_time": "2021-04-25T02:43:30.143568",
     "exception": false,
     "start_time": "2021-04-25T02:43:30.016241",
     "status": "completed"
    },
    "tags": []
   },
   "source": [
    "[back to top](#table-of-contents)\n",
    "<a id=\"6.2\"></a>\n",
    "## 6.2. Features Engineering\n",
    "Features engineering are taken from previous sections."
   ]
  },
  {
   "cell_type": "code",
   "execution_count": 49,
   "id": "above-cylinder",
   "metadata": {
    "execution": {
     "iopub.execute_input": "2021-04-25T02:43:30.423182Z",
     "iopub.status.busy": "2021-04-25T02:43:30.422458Z",
     "iopub.status.idle": "2021-04-25T02:43:33.456311Z",
     "shell.execute_reply": "2021-04-25T02:43:33.455765Z"
    },
    "papermill": {
     "duration": 3.186358,
     "end_time": "2021-04-25T02:43:33.456477",
     "exception": false,
     "start_time": "2021-04-25T02:43:30.270119",
     "status": "completed"
    },
    "tags": []
   },
   "outputs": [
    {
     "name": "stderr",
     "output_type": "stream",
     "text": [
      "/opt/conda/lib/python3.7/site-packages/ipykernel_launcher.py:12: FutureWarning: The default value of regex will change from True to False in a future version.\n",
      "  if sys.path[0] == '':\n"
     ]
    }
   ],
   "source": [
    "# Cabin\n",
    "combine['Cabin'] = combine[\"Cabin\"].str[0]\n",
    "combine['Cabin'] = combine['Cabin'].fillna('NA')\n",
    "\n",
    "#Embarked\n",
    "combine['Embarked'] = combine['Embarked'].fillna('NA')\n",
    "\n",
    "# Fare\n",
    "combine['Fare'] = combine['Fare'].fillna(np.mean(combine['Fare']))\n",
    "\n",
    "# Ticket\n",
    "combine['TicketCode'] = combine['Ticket'].str.replace('[^\\w\\s]','')\n",
    "combine['TicketCode'] = combine['TicketCode'].str.replace(' ','')\n",
    "combine['TicketCode'] = combine['TicketCode'].fillna('NA')\n",
    "combine['TicketCode'] = combine['TicketCode'].replace('(\\d)', '', regex=True)\n",
    "combine['TicketNumber'] = combine['Ticket'].str.extract('(\\d+)')\n",
    "combine['TicketNumber'] = combine['TicketNumber'].astype(float)\n",
    "combine['TicketNumber'] = combine['TicketNumber'].fillna(0)\n",
    "\n",
    "# Age \n",
    "combine['AgeBin']=pd.cut(combine['Age'],[-np.inf, 20, 40, 60, 80, np.inf], right=False)\n",
    "\n",
    "# Preprocess\n",
    "combine = combine.drop(['Name'], axis = 1)\n",
    "cat_features = ['Pclass', 'Sex', 'AgeBin', 'Cabin', 'Embarked', 'TicketCode']\n",
    "label_encoder = LabelEncoder()\n",
    "for col in cat_features:\n",
    "    combine[col] = label_encoder.fit_transform(combine[col])\n",
    "target = 'Survived'\n",
    "features = ['Cabin', 'Embarked', 'Pclass', 'Sex', 'AgeBin', 'Parch', 'SibSp', \n",
    "            'Fare', 'TicketCode', 'TicketNumber']\n",
    "\n",
    "# Splitting into train and test\n",
    "train = combine.iloc[:100000, :]\n",
    "test = combine.iloc[100000:, :]\n",
    "test = test.drop('Survived', axis=1)"
   ]
  },
  {
   "cell_type": "markdown",
   "id": "fiscal-combat",
   "metadata": {
    "papermill": {
     "duration": 0.128115,
     "end_time": "2021-04-25T02:43:33.712136",
     "exception": false,
     "start_time": "2021-04-25T02:43:33.584021",
     "status": "completed"
    },
    "tags": []
   },
   "source": [
    "[back to top](#table-of-contents)\n",
    "<a id=\"6.3\"></a>\n",
    "## 6.3. Train Model & Prediction\n",
    "Most of the code are taken from [TPS-Apr2021 Catboost Run Pseudo label](https://www.kaggle.com/gomes555/tps-apr2021-catboost-run-pseudo-label) by [Fellipe Gomes](https://www.kaggle.com/gomes555). It has also implemented threshold optimization in his code."
   ]
  },
  {
   "cell_type": "code",
   "execution_count": 50,
   "id": "periodic-scheduling",
   "metadata": {
    "execution": {
     "iopub.execute_input": "2021-04-25T02:43:33.982340Z",
     "iopub.status.busy": "2021-04-25T02:43:33.976842Z",
     "iopub.status.idle": "2021-04-25T04:10:59.447156Z",
     "shell.execute_reply": "2021-04-25T04:10:59.446194Z"
    },
    "papermill": {
     "duration": 5245.606989,
     "end_time": "2021-04-25T04:10:59.447319",
     "exception": false,
     "start_time": "2021-04-25T02:43:33.840330",
     "status": "completed"
    },
    "tags": []
   },
   "outputs": [
    {
     "name": "stdout",
     "output_type": "stream",
     "text": [
      "Fold 0 Base Accuracy: 0.884825\n",
      "Fold 0 Best Accuracy: 0.8851 with threshold of 0.51\n",
      "Fold 1 Base Accuracy: 0.88625\n",
      "Fold 1 Best Accuracy: 0.88625 with threshold of 0.5\n",
      "Fold 2 Base Accuracy: 0.88335\n",
      "Fold 2 Best Accuracy: 0.88355 with threshold of 0.47000000000000003\n",
      "Fold 3 Base Accuracy: 0.882975\n",
      "Fold 3 Best Accuracy: 0.883125 with threshold of 0.49\n",
      "Fold 4 Base Accuracy: 0.884525\n",
      "Fold 4 Best Accuracy: 0.884775 with threshold of 0.52\n",
      "OOF Accuracy:  0.88456\n"
     ]
    }
   ],
   "source": [
    "train_oof = np.zeros((200000,))\n",
    "test_predicts = pd.DataFrame()\n",
    "\n",
    "skf = StratifiedKFold(n_splits=FOLDS, shuffle=True, random_state=314)\n",
    "for fold, (train_idx, valid_idx) in enumerate(skf.split(combine[features], combine['Survived'])):\n",
    "    X_train, X_valid = combine.iloc[train_idx], combine.iloc[valid_idx]\n",
    "    y_train = X_train['Survived']\n",
    "    y_valid = X_valid['Survived']\n",
    "    X_train = X_train[features]\n",
    "    X_valid = X_valid[features]\n",
    "    X_test = test[features]\n",
    "\n",
    "    params = {'iterations': 10000,\n",
    "              'use_best_model':True ,\n",
    "              'eval_metric': 'AUC',\n",
    "              'loss_function':'Logloss',\n",
    "              'od_type':'Iter',\n",
    "              'od_wait':500,\n",
    "              'depth': 6,\n",
    "              'l2_leaf_reg': 3,\n",
    "              'bootstrap_type': 'Bayesian',\n",
    "              'bagging_temperature': 2,\n",
    "              'max_bin': 254,\n",
    "              'grow_policy': 'SymmetricTree',\n",
    "              'cat_features': cat_features,\n",
    "              'verbose': 0,\n",
    "              'random_seed': 314}\n",
    "\n",
    "    model = CatBoostClassifier(**params)\n",
    "    model = model.fit(X_train,y_train,\n",
    "                eval_set=[(X_train, y_train), (X_valid, y_valid)],\n",
    "                use_best_model=True,\n",
    "                plot=False)\n",
    "    predict = model.predict_proba(X_valid)[:, 1]\n",
    "    accuracy = accuracy_score(y_valid, np.where(predict>0.5, 1, 0))\n",
    "    print(f'Fold {fold} Base Accuracy:', accuracy)\n",
    "    \n",
    "    # Threshold optimization\n",
    "    thresholds = np.arange(0.0, 1.0, 0.01)\n",
    "    accuracies = []\n",
    "    for threshold in thresholds:\n",
    "        accuracies.append(accuracy_score(y_valid, np.where(predict>threshold, 1, 0)))\n",
    "    \n",
    "    accuracies = np.array(accuracies)\n",
    "    best_accuracy = accuracies.max()\n",
    "    best_accuracy_threshold = thresholds[accuracies.argmax()]\n",
    "    print(f'Fold {fold} Best Accuracy:', best_accuracy, 'with threshold of', f'{best_accuracy_threshold}')\n",
    "    \n",
    "    temp_oof = np.where(predict>best_accuracy_threshold, 1, 0)\n",
    "    train_oof[valid_idx] = temp_oof\n",
    "    \n",
    "    test_predict = model.predict_proba(X_test)[:, 1]\n",
    "    test_predict = np.where(test_predict>best_accuracy_threshold, 1, 0)\n",
    "    test_predicts['Fold '+str(fold)] = test_predict\n",
    "    \n",
    "print(f'OOF Accuracy: ', accuracy_score(combine['Survived'], train_oof))"
   ]
  },
  {
   "cell_type": "markdown",
   "id": "severe-beverage",
   "metadata": {
    "papermill": {
     "duration": 0.131122,
     "end_time": "2021-04-25T04:10:59.710089",
     "exception": false,
     "start_time": "2021-04-25T04:10:59.578967",
     "status": "completed"
    },
    "tags": []
   },
   "source": [
    "[back to top](#table-of-contents)\n",
    "<a id=\"6.4\"></a>\n",
    "## 6.4. Submission\n",
    "`Hard voting` is used to get the final prediction, `above 2` will be `1` and `below 2` will be `0`."
   ]
  },
  {
   "cell_type": "code",
   "execution_count": 51,
   "id": "adopted-rogers",
   "metadata": {
    "execution": {
     "iopub.execute_input": "2021-04-25T04:10:59.979475Z",
     "iopub.status.busy": "2021-04-25T04:10:59.978751Z",
     "iopub.status.idle": "2021-04-25T04:11:00.179388Z",
     "shell.execute_reply": "2021-04-25T04:11:00.178792Z"
    },
    "papermill": {
     "duration": 0.338725,
     "end_time": "2021-04-25T04:11:00.179569",
     "exception": false,
     "start_time": "2021-04-25T04:10:59.840844",
     "status": "completed"
    },
    "tags": []
   },
   "outputs": [],
   "source": [
    "test_predicts['voting'] = np.where(test_predicts.sum(axis=1) > (FOLDS/2), 1, 0)\n",
    "submission['Survived'] = test_predicts['voting']\n",
    "submission.to_csv('submission.csv', index=False)"
   ]
  }
 ],
 "metadata": {
  "kernelspec": {
   "display_name": "Python 3",
   "language": "python",
   "name": "python3"
  },
  "language_info": {
   "codemirror_mode": {
    "name": "ipython",
    "version": 3
   },
   "file_extension": ".py",
   "mimetype": "text/x-python",
   "name": "python",
   "nbconvert_exporter": "python",
   "pygments_lexer": "ipython3",
   "version": "3.7.9"
  },
  "papermill": {
   "default_parameters": {},
   "duration": 6385.549379,
   "end_time": "2021-04-25T04:11:01.121932",
   "environment_variables": {},
   "exception": null,
   "input_path": "__notebook__.ipynb",
   "output_path": "__notebook__.ipynb",
   "parameters": {},
   "start_time": "2021-04-25T02:24:35.572553",
   "version": "2.3.2"
  }
 },
 "nbformat": 4,
 "nbformat_minor": 5
}
